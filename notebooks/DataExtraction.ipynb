{
  "nbformat": 4,
  "nbformat_minor": 0,
  "metadata": {
    "colab": {
      "name": "DataExtraction.ipynb",
      "provenance": []
    },
    "kernelspec": {
      "name": "python3",
      "display_name": "Python 3"
    }
  },
  "cells": [
    {
      "cell_type": "markdown",
      "metadata": {
        "id": "JmZGiEHhvYwJ"
      },
      "source": [
        "# Sentiment Analysis\n",
        "\n",
        "In this notebook our goal is to perform some basic analysis on the data and drive some useful insights. We will try to follow a very basic approach of a data science pipeline.\n",
        "\n",
        "Here's the goal of this notebook:\n",
        "\n",
        "* Load and understand the data at hand.\n",
        "* Setup a basic baseline. Before going to state-of-the-art models\n",
        "* Setup performance metrics before deploying the model."
      ]
    },
    {
      "cell_type": "markdown",
      "metadata": {
        "id": "07v1IchzwVfv"
      },
      "source": [
        "# Load Essential Libraries"
      ]
    },
    {
      "cell_type": "code",
      "metadata": {
        "id": "vaf5xUEArqK0"
      },
      "source": [
        "import os\n",
        "import re\n",
        "from tqdm import tqdm\n",
        "import numpy as np\n",
        "import pandas as pd\n",
        "import matplotlib.pyplot as plt\n",
        "\n",
        "import json\n",
        "import ast\n",
        "\n",
        "%matplotlib inline"
      ],
      "execution_count": 1,
      "outputs": []
    },
    {
      "cell_type": "markdown",
      "metadata": {
        "id": "goF33bUlwjGp"
      },
      "source": [
        "# Load dataset from GDrive"
      ]
    },
    {
      "cell_type": "code",
      "metadata": {
        "id": "28DznyCeweE8"
      },
      "source": [
        "dataset = pd.read_csv(\"/content/drive/MyDrive/Projects/Moodboard/dataset.csv\")"
      ],
      "execution_count": 2,
      "outputs": []
    },
    {
      "cell_type": "code",
      "metadata": {
        "colab": {
          "base_uri": "https://localhost:8080/"
        },
        "id": "X8K3vo3Iw-Sy",
        "outputId": "f344cd87-2c0e-400d-824b-b67feb6df144"
      },
      "source": [
        "dataset.shape"
      ],
      "execution_count": 3,
      "outputs": [
        {
          "output_type": "execute_result",
          "data": {
            "text/plain": [
              "(923, 15)"
            ]
          },
          "metadata": {
            "tags": []
          },
          "execution_count": 3
        }
      ]
    },
    {
      "cell_type": "code",
      "metadata": {
        "colab": {
          "base_uri": "https://localhost:8080/",
          "height": 1000
        },
        "id": "NnuwyzcyxtZ9",
        "outputId": "c4c0ec27-0af3-498a-c87d-eaa7e26ccfab"
      },
      "source": [
        "dataset"
      ],
      "execution_count": 4,
      "outputs": [
        {
          "output_type": "execute_result",
          "data": {
            "text/html": [
              "<div>\n",
              "<style scoped>\n",
              "    .dataframe tbody tr th:only-of-type {\n",
              "        vertical-align: middle;\n",
              "    }\n",
              "\n",
              "    .dataframe tbody tr th {\n",
              "        vertical-align: top;\n",
              "    }\n",
              "\n",
              "    .dataframe thead th {\n",
              "        text-align: right;\n",
              "    }\n",
              "</style>\n",
              "<table border=\"1\" class=\"dataframe\">\n",
              "  <thead>\n",
              "    <tr style=\"text-align: right;\">\n",
              "      <th></th>\n",
              "      <th>Unnamed: 0</th>\n",
              "      <th>_id</th>\n",
              "      <th>Sector</th>\n",
              "      <th>Main Category</th>\n",
              "      <th>Retailer</th>\n",
              "      <th>productlink</th>\n",
              "      <th>Brand</th>\n",
              "      <th>title</th>\n",
              "      <th>star</th>\n",
              "      <th>Details</th>\n",
              "      <th>Ingredients</th>\n",
              "      <th>reviews</th>\n",
              "      <th>createdAtdate</th>\n",
              "      <th>createdAt</th>\n",
              "      <th>source</th>\n",
              "    </tr>\n",
              "  </thead>\n",
              "  <tbody>\n",
              "    <tr>\n",
              "      <th>0</th>\n",
              "      <td>0</td>\n",
              "      <td>5feac0cca137251264c4341d</td>\n",
              "      <td>Beauty &amp; Skincare</td>\n",
              "      <td>makeup</td>\n",
              "      <td>ulta</td>\n",
              "      <td>https://www.ulta.com/fill-fluff-eyebrow-pomade...</td>\n",
              "      <td>NYX Cosmetics</td>\n",
              "      <td>Fill &amp; Fluff Eyebrow Pomade Pencil</td>\n",
              "      <td>4.3 out of 5 stars</td>\n",
              "      <td>The boyfriend jean of the eyebrow world has ar...</td>\n",
              "      <td>Microcrystalline Wax/Cera Microcristallina/Cir...</td>\n",
              "      <td>{'reviewer': ['By\\xa0Franny', 'By\\xa0Lilly', '...</td>\n",
              "      <td>29/12/2020</td>\n",
              "      <td>2020-12-29 05:38:19.937</td>\n",
              "      <td>ecommerce</td>\n",
              "    </tr>\n",
              "    <tr>\n",
              "      <th>1</th>\n",
              "      <td>1</td>\n",
              "      <td>5feac0cca137251264c43425</td>\n",
              "      <td>Beauty &amp; Skincare</td>\n",
              "      <td>makeup</td>\n",
              "      <td>ulta</td>\n",
              "      <td>https://www.ulta.com/diamonds-ice-please-epic-...</td>\n",
              "      <td>NYX Cosmetics</td>\n",
              "      <td>Diamonds &amp; Ice, Please! Epic Wear Liner Kit</td>\n",
              "      <td>4.4 out of 5 stars</td>\n",
              "      <td>Ready for an epic lineup? The limited edition ...</td>\n",
              "      <td>NaN</td>\n",
              "      <td>{'reviewer': ['By\\xa0kjh', 'By\\xa0AIM RN', 'By...</td>\n",
              "      <td>29/12/2020</td>\n",
              "      <td>2020-12-29 05:38:19.939</td>\n",
              "      <td>ecommerce</td>\n",
              "    </tr>\n",
              "    <tr>\n",
              "      <th>2</th>\n",
              "      <td>2</td>\n",
              "      <td>5feac0cca137251264c43427</td>\n",
              "      <td>Beauty &amp; Skincare</td>\n",
              "      <td>makeup</td>\n",
              "      <td>ulta</td>\n",
              "      <td>https://www.ulta.com/slim-lip-pencil?productId...</td>\n",
              "      <td>NYX Cosmetics</td>\n",
              "      <td>Slim Lip Pencil</td>\n",
              "      <td>4.4 out of 5 stars</td>\n",
              "      <td>Slim, trim, but never prim. NYX Professional M...</td>\n",
              "      <td>Sorbitan Isostearate, Isocetyl Stearate,Phenyl...</td>\n",
              "      <td>{'reviewer': ['By\\xa0CeCe', 'By\\xa0Kelsey', 'B...</td>\n",
              "      <td>29/12/2020</td>\n",
              "      <td>2020-12-29 05:38:19.941</td>\n",
              "      <td>ecommerce</td>\n",
              "    </tr>\n",
              "    <tr>\n",
              "      <th>3</th>\n",
              "      <td>3</td>\n",
              "      <td>5feac0cca137251264c43422</td>\n",
              "      <td>Beauty &amp; Skincare</td>\n",
              "      <td>makeup</td>\n",
              "      <td>ulta</td>\n",
              "      <td>https://www.ulta.com/lip-lingerie-glitter?prod...</td>\n",
              "      <td>NYX Cosmetics</td>\n",
              "      <td>Lip Lingerie Glitter</td>\n",
              "      <td>3.7 out of 5 stars</td>\n",
              "      <td>Reveal gorgeous nude lips and knockout shine w...</td>\n",
              "      <td>Hydrogenated Polyisobutene, Polybutene, Diisos...</td>\n",
              "      <td>{'reviewer': ['By\\xa0J . Galeano', 'By\\xa0Sara...</td>\n",
              "      <td>29/12/2020</td>\n",
              "      <td>2020-12-29 05:38:19.939</td>\n",
              "      <td>ecommerce</td>\n",
              "    </tr>\n",
              "    <tr>\n",
              "      <th>4</th>\n",
              "      <td>4</td>\n",
              "      <td>5feac0cca137251264c43423</td>\n",
              "      <td>Beauty &amp; Skincare</td>\n",
              "      <td>makeup</td>\n",
              "      <td>ulta</td>\n",
              "      <td>https://www.ulta.com/lip-lingerie-shimmer?prod...</td>\n",
              "      <td>NYX Cosmetics</td>\n",
              "      <td>Lip Lingerie Shimmer</td>\n",
              "      <td>4.0 out of 5 stars</td>\n",
              "      <td>Reveal gorgeous nude lips and knockout shine w...</td>\n",
              "      <td>Hydrogenated Polyisobutene, Polybutene, Diisos...</td>\n",
              "      <td>{'reviewer': ['By\\xa0Becky', 'By\\xa0Savanah', ...</td>\n",
              "      <td>29/12/2020</td>\n",
              "      <td>2020-12-29 05:38:19.939</td>\n",
              "      <td>ecommerce</td>\n",
              "    </tr>\n",
              "    <tr>\n",
              "      <th>...</th>\n",
              "      <td>...</td>\n",
              "      <td>...</td>\n",
              "      <td>...</td>\n",
              "      <td>...</td>\n",
              "      <td>...</td>\n",
              "      <td>...</td>\n",
              "      <td>...</td>\n",
              "      <td>...</td>\n",
              "      <td>...</td>\n",
              "      <td>...</td>\n",
              "      <td>...</td>\n",
              "      <td>...</td>\n",
              "      <td>...</td>\n",
              "      <td>...</td>\n",
              "      <td>...</td>\n",
              "    </tr>\n",
              "    <tr>\n",
              "      <th>918</th>\n",
              "      <td>918</td>\n",
              "      <td>5ff54992b1cebb35b49d15af</td>\n",
              "      <td>Beauty &amp; Skincare</td>\n",
              "      <td>makeup</td>\n",
              "      <td>ulta</td>\n",
              "      <td>https://www.ulta.com/facial-spray-with-aloe-ch...</td>\n",
              "      <td>Mario Badescu</td>\n",
              "      <td>Facial Spray with Aloe, Chamomile and Lavender</td>\n",
              "      <td>4.2 out of 5 stars</td>\n",
              "      <td>Replenish skin with an infusion of calming bot...</td>\n",
              "      <td>Aqua (Water, Eau), Lavandula Angustifolia (Lav...</td>\n",
              "      <td>{'reviewer': ['By\\xa0Sarbear', 'By\\xa0Dizzy', ...</td>\n",
              "      <td>06/01/2021</td>\n",
              "      <td>2021-01-06 05:24:31.941</td>\n",
              "      <td>ecommerce</td>\n",
              "    </tr>\n",
              "    <tr>\n",
              "      <th>919</th>\n",
              "      <td>919</td>\n",
              "      <td>5ff54992b1cebb35b49d15b0</td>\n",
              "      <td>Beauty &amp; Skincare</td>\n",
              "      <td>makeup</td>\n",
              "      <td>ulta</td>\n",
              "      <td>https://www.ulta.com/travel-size-facial-spray-...</td>\n",
              "      <td>Mario Badescu</td>\n",
              "      <td>Travel Size Facial Spray With Aloe, Herbs and ...</td>\n",
              "      <td>4.6 out of 5 stars</td>\n",
              "      <td>Whether spritzed for a hydrating boost or midd...</td>\n",
              "      <td>Aqua (Water, Eau), Propylene Glycol, Aloe Barb...</td>\n",
              "      <td>{'reviewer': ['By\\xa0Bianca', 'By\\xa0LW', 'By\\...</td>\n",
              "      <td>06/01/2021</td>\n",
              "      <td>2021-01-06 05:24:31.941</td>\n",
              "      <td>ecommerce</td>\n",
              "    </tr>\n",
              "    <tr>\n",
              "      <th>920</th>\n",
              "      <td>920</td>\n",
              "      <td>5ff54992b1cebb35b49d15b1</td>\n",
              "      <td>Beauty &amp; Skincare</td>\n",
              "      <td>makeup</td>\n",
              "      <td>ulta</td>\n",
              "      <td>https://www.ulta.com/facial-spray-with-aloe-sa...</td>\n",
              "      <td>Mario Badescu</td>\n",
              "      <td>Facial Spray with Aloe, Sage and Orange Blossom</td>\n",
              "      <td>4.6 out of 5 stars</td>\n",
              "      <td>Hydrate and refresh with Mario Badescu's Facia...</td>\n",
              "      <td>Aqua (Water, Eau), Propylene Glycol, Salvia Of...</td>\n",
              "      <td>{'reviewer': ['By\\xa0Theresa12', 'By\\xa0Sophia...</td>\n",
              "      <td>06/01/2021</td>\n",
              "      <td>2021-01-06 05:24:31.941</td>\n",
              "      <td>ecommerce</td>\n",
              "    </tr>\n",
              "    <tr>\n",
              "      <th>921</th>\n",
              "      <td>921</td>\n",
              "      <td>5ff54992b1cebb35b49d15b2</td>\n",
              "      <td>Beauty &amp; Skincare</td>\n",
              "      <td>makeup</td>\n",
              "      <td>ulta</td>\n",
              "      <td>https://www.ulta.com/travel-size-facial-spray-...</td>\n",
              "      <td>Mario Badescu</td>\n",
              "      <td>Travel Size Facial Spray with Aloe, Cucumber a...</td>\n",
              "      <td>4.6 out of 5 stars</td>\n",
              "      <td>Mario Badescu's Travel Size Facial Spray With ...</td>\n",
              "      <td>Aqua (Water, Eau), Propylene Glycol, Mentha Pi...</td>\n",
              "      <td>{'reviewer': ['By\\xa0Aaliyah\\U0001f90d🥞\\U0001f...</td>\n",
              "      <td>06/01/2021</td>\n",
              "      <td>2021-01-06 05:24:31.942</td>\n",
              "      <td>ecommerce</td>\n",
              "    </tr>\n",
              "    <tr>\n",
              "      <th>922</th>\n",
              "      <td>922</td>\n",
              "      <td>5ff54992b1cebb35b49d15b3</td>\n",
              "      <td>Beauty &amp; Skincare</td>\n",
              "      <td>makeup</td>\n",
              "      <td>ulta</td>\n",
              "      <td>https://www.ulta.com/travel-size-facial-spray-...</td>\n",
              "      <td>Mario Badescu</td>\n",
              "      <td>Travel Size Facial Spray with Aloe, Chamomile ...</td>\n",
              "      <td>4.5 out of 5 stars</td>\n",
              "      <td>Mario Badescu's Travel Size Facial Spray with ...</td>\n",
              "      <td>Aqua (Water, Eau), Lavandula Angustifolia (Lav...</td>\n",
              "      <td>{'reviewer': ['By\\xa0Rachel', 'By\\xa0a', 'By\\x...</td>\n",
              "      <td>06/01/2021</td>\n",
              "      <td>2021-01-06 05:24:31.942</td>\n",
              "      <td>ecommerce</td>\n",
              "    </tr>\n",
              "  </tbody>\n",
              "</table>\n",
              "<p>923 rows × 15 columns</p>\n",
              "</div>"
            ],
            "text/plain": [
              "     Unnamed: 0                       _id  ...                createdAt     source\n",
              "0             0  5feac0cca137251264c4341d  ...  2020-12-29 05:38:19.937  ecommerce\n",
              "1             1  5feac0cca137251264c43425  ...  2020-12-29 05:38:19.939  ecommerce\n",
              "2             2  5feac0cca137251264c43427  ...  2020-12-29 05:38:19.941  ecommerce\n",
              "3             3  5feac0cca137251264c43422  ...  2020-12-29 05:38:19.939  ecommerce\n",
              "4             4  5feac0cca137251264c43423  ...  2020-12-29 05:38:19.939  ecommerce\n",
              "..          ...                       ...  ...                      ...        ...\n",
              "918         918  5ff54992b1cebb35b49d15af  ...  2021-01-06 05:24:31.941  ecommerce\n",
              "919         919  5ff54992b1cebb35b49d15b0  ...  2021-01-06 05:24:31.941  ecommerce\n",
              "920         920  5ff54992b1cebb35b49d15b1  ...  2021-01-06 05:24:31.941  ecommerce\n",
              "921         921  5ff54992b1cebb35b49d15b2  ...  2021-01-06 05:24:31.942  ecommerce\n",
              "922         922  5ff54992b1cebb35b49d15b3  ...  2021-01-06 05:24:31.942  ecommerce\n",
              "\n",
              "[923 rows x 15 columns]"
            ]
          },
          "metadata": {
            "tags": []
          },
          "execution_count": 4
        }
      ]
    },
    {
      "cell_type": "code",
      "metadata": {
        "colab": {
          "base_uri": "https://localhost:8080/"
        },
        "id": "JjjDoJ8r4eex",
        "outputId": "92645451-d9fb-4da9-da54-2ed8790f6ae7"
      },
      "source": [
        "dataset['Sector'].value_counts()"
      ],
      "execution_count": 5,
      "outputs": [
        {
          "output_type": "execute_result",
          "data": {
            "text/plain": [
              "Beauty & Skincare    923\n",
              "Name: Sector, dtype: int64"
            ]
          },
          "metadata": {
            "tags": []
          },
          "execution_count": 5
        }
      ]
    },
    {
      "cell_type": "code",
      "metadata": {
        "colab": {
          "base_uri": "https://localhost:8080/"
        },
        "id": "E6U8NgwQ4vrY",
        "outputId": "bf4280d8-ed0a-48e3-f073-c433d19191bc"
      },
      "source": [
        "dataset['Brand'].value_counts()"
      ],
      "execution_count": 6,
      "outputs": [
        {
          "output_type": "execute_result",
          "data": {
            "text/plain": [
              "NYX Cosmetics    205\n",
              "Clinique         131\n",
              "Bareminerals     112\n",
              "Mario Badescu    110\n",
              "Estee Lauder      71\n",
              "Juice beauty      61\n",
              "Colourpop         54\n",
              "Murad             50\n",
              "BH Cosmetics      42\n",
              "neutrogena        39\n",
              "the ordinary      35\n",
              "Sally Beauty      13\n",
              "Name: Brand, dtype: int64"
            ]
          },
          "metadata": {
            "tags": []
          },
          "execution_count": 6
        }
      ]
    },
    {
      "cell_type": "markdown",
      "metadata": {
        "id": "UxY2nX2y4-Mu"
      },
      "source": [
        "This could be an interesting feature. As brand name alone is a powerful drive for customers as well. Although I would just keep it as an insight for further added improvements. For now we will not use this data for data modelling."
      ]
    },
    {
      "cell_type": "code",
      "metadata": {
        "colab": {
          "base_uri": "https://localhost:8080/"
        },
        "id": "FSgpczv-420S",
        "outputId": "d0ee2413-8fe0-4465-be5c-1a8482a6eecb"
      },
      "source": [
        "dataset['star'].value_counts()"
      ],
      "execution_count": 7,
      "outputs": [
        {
          "output_type": "execute_result",
          "data": {
            "text/plain": [
              "4.5 out of 5 stars    125\n",
              "4.3 out of 5 stars    121\n",
              "4.4 out of 5 stars    103\n",
              "4.2 out of 5 stars     89\n",
              "4.6 out of 5 stars     75\n",
              "4.1 out of 5 stars     65\n",
              "4.0 out of 5 stars     59\n",
              "4.7 out of 5 stars     56\n",
              "3.9 out of 5 stars     36\n",
              "5.0 out of 5 stars     30\n",
              "3.8 out of 5 stars     27\n",
              "3.7 out of 5 stars     25\n",
              "4.8 out of 5 stars     21\n",
              "3.6 out of 5 stars     16\n",
              "4.9 out of 5 stars     12\n",
              "3.4 out of 5 stars     11\n",
              "3.5 out of 5 stars     10\n",
              "3.2 out of 5 stars      9\n",
              "3.1 out of 5 stars      8\n",
              "3.3 out of 5 stars      8\n",
              "2.8 out of 5 stars      3\n",
              "3.0 out of 5 stars      3\n",
              "2.5 out of 5 stars      3\n",
              "2.9 out of 5 stars      2\n",
              "2.6 out of 5 stars      2\n",
              "2.4 out of 5 stars      2\n",
              "1.1 out of 5 stars      1\n",
              "2.3 out of 5 stars      1\n",
              "Name: star, dtype: int64"
            ]
          },
          "metadata": {
            "tags": []
          },
          "execution_count": 7
        }
      ]
    },
    {
      "cell_type": "markdown",
      "metadata": {
        "id": "urRKb25n5o1R"
      },
      "source": [
        "This is another interesting feature that drive a sentiment a lot. Let's keep them in tab as well."
      ]
    },
    {
      "cell_type": "markdown",
      "metadata": {
        "id": "As9F0NPh71Ke"
      },
      "source": [
        "Now let's examine the reviews of our customers."
      ]
    },
    {
      "cell_type": "code",
      "metadata": {
        "colab": {
          "base_uri": "https://localhost:8080/",
          "height": 125
        },
        "id": "8lJ0TjiX5dMs",
        "outputId": "3f9767fe-d6be-4675-e833-9ae15764edd3"
      },
      "source": [
        "dataset['Details'][100]"
      ],
      "execution_count": 8,
      "outputs": [
        {
          "output_type": "execute_result",
          "data": {
            "application/vnd.google.colaboratory.intrinsic+json": {
              "type": "string"
            },
            "text/plain": [
              "'Love the look of a lash lift but not the price? Enter NYX Professional Makeup On The Rise Liftsacara. This ultra-high pigmented, vegan formula, matte black mascara is the first ever lifting and volumizing liftascara. Delivering quick-charge lift and volume in just a few strokes. Featuring an innovative applicator that¿s part rounded, part hourglass to lift you lashes up to new heights! The \"curling\" effect results in a far-reaching fringe so that eyes look bigger and lashes look thicker, making it our most dramatic mascara to date. Also cool: it works for all lash types. In a clinical study 95% of participants saw instant volume and 94% saw instant lift! Elevate your expectations with this high drama black volume that lifts eyelashes so freakin\\' high, you just won\\'t believe it! Featuring a vegan formula with no animal-derived ingredients or by-products. All NYX Professional Makeup products are proudly cruelty-free and PETA certified.Benefits:Volumizing mascara with lash-lifting abilitiesUltra-pigmented matte black formulaWorks for all lash typesInnovative applicator & an elastomer brush head delivers high drama, intense volume & serious elevationCruelty-freeVegan formula* (no animal-derived ingredient or by-product)'"
            ]
          },
          "metadata": {
            "tags": []
          },
          "execution_count": 8
        }
      ]
    },
    {
      "cell_type": "markdown",
      "metadata": {
        "id": "otGl5kMs8lmA"
      },
      "source": [
        "Details columns is usually company provided details of the product. As of sentiment analysis for customers it may not be a lot helpful to understand customer reviews. Although, it could be helpful in whole another domain where based on the product details we can figure out which customers are more attracted to which aspect of the products which could be whole another area. We can keep that in mind for bulding further models in future. "
      ]
    },
    {
      "cell_type": "code",
      "metadata": {
        "id": "ewjPS7lw8G82"
      },
      "source": [
        "sample_data = dataset['reviews'][10]"
      ],
      "execution_count": 9,
      "outputs": []
    },
    {
      "cell_type": "markdown",
      "metadata": {
        "id": "KCm0XBp5_y2Z"
      },
      "source": [
        "Wow this looks like we have some messy data at hand. Also from intial look up we have the data and the labels as well which will help us in preparing a dataset which we will use it as our final model building task."
      ]
    },
    {
      "cell_type": "code",
      "metadata": {
        "colab": {
          "base_uri": "https://localhost:8080/",
          "height": 125
        },
        "id": "BON04Lkf1HRo",
        "outputId": "46a8cf50-50ef-4350-9760-71017d126ba1"
      },
      "source": [
        "sample_data"
      ],
      "execution_count": 10,
      "outputs": [
        {
          "output_type": "execute_result",
          "data": {
            "application/vnd.google.colaboratory.intrinsic+json": {
              "type": "string"
            },
            "text/plain": [
              "'{\\'reviewer\\': [\\'By\\\\xa0Aina\\', \\'By\\\\xa0nessa\\', \\'By\\\\xa0Lish\\', \\'By\\\\xa0Sam\\', \\'By\\\\xa0Pineapple\\', \\'By\\\\xa0LJ\\', \\'By\\\\xa0Grandmother\\', \\'By\\\\xa0Sarahlynn\\', \\'By\\\\xa0Bel\\', \\'By\\\\xa0Noel\\', \\'By\\\\xa0Hazel\\', \\'By\\\\xa0Cassie\\', \\'By\\\\xa0Auj\\', \\'By\\\\xa0deedeeg\\', \\'By\\\\xa0Dee\\', \\'By\\\\xa0Kay5\\', \\'By\\\\xa0adri\\', \\'By\\\\xa0Barbie secret agent\\', \\'By\\\\xa0Amy\\', \\'By\\\\xa0Kim\\', \\'By\\\\xa0Paola\\', \\'By\\\\xa0Lindaw3\\', \\'By\\\\xa0Keelee\\', \\'By\\\\xa0Becksstein\\', \\'By\\\\xa0Miss Michelle\\', \\'By\\\\xa0B\\', \\'By\\\\xa0Yang\\', \\'By\\\\xa0Kacie\\', \\'By\\\\xa0Mary\\', \\'By\\\\xa0Randy\\', \\'By\\\\xa0Carly\\', \\'By\\\\xa0Bear\\', \\'By\\\\xa0Tomadeupjazz\\', \\'By\\\\xa0Janna\\', \\'By\\\\xa0Milleloves\\', \\'By\\\\xa0Extragirl\\', \\'By\\\\xa0Jane21\\', \\'By\\\\xa0JKCRUSH\\', \\'By\\\\xa0Debs3\\', \\'By\\\\xa0Donna\\', \\'By\\\\xa0Tammy\\', \\'By\\\\xa0s\\', \\'By\\\\xa0Glamadiva\\', \\'By\\\\xa0Dani\\', \\'By\\\\xa0LoisAnn\\', \\'By\\\\xa0Megan K.\\', \\'By\\\\xa0Glamapuss\\', \\'By\\\\xa0LTT\\', \\'By\\\\xa0Marie\\', \\'By\\\\xa0Tiff\\', \\'By\\\\xa0Pauline\\', \\'By\\\\xa0Jill\\', \\'By\\\\xa0Miy\\', \\'By\\\\xa0Del\\', \\'By\\\\xa0Dilara\\', \\'By\\\\xa0Terra\\', \\'By\\\\xa0seed\\', \\'By\\\\xa0SDGal\\', \\'By\\\\xa0Babycake\\', \\'By\\\\xa0Channi\\', \\'By\\\\xa0Niki\\', \\'By\\\\xa0angie\\', \\'By\\\\xa0Moneé\\', \\'By\\\\xa0BNas\\', \\'By\\\\xa0Nyah\\', \\'By\\\\xa0chelsea\\', \\'By\\\\xa0Vladdy\\', \\'By\\\\xa0Amanda\\', \\'By\\\\xa0Steph 80\\', \\'By\\\\xa0NESHA\\', \\'By\\\\xa0Ashley\\', \\'By\\\\xa0CBing\\', \\'By\\\\xa0Yaya\\', \\'By\\\\xa0TD\\', \\'By\\\\xa0ItsLisM\\', \\'By\\\\xa0Tara\\', \\'By\\\\xa0Liv J\\', \\'By\\\\xa0Sara\\', \\'By\\\\xa0Mommylovesmakeup\\', \\'By\\\\xa0Rika\\', \\'By\\\\xa0angie\\', \\'By\\\\xa0Nicole\\', \\'By\\\\xa0Anne\\', \\'By\\\\xa0Mandy\\', \\'By\\\\xa0mandy\\', \\'By\\\\xa0Kym\\', \\'By\\\\xa0Maymay\\', \\'By\\\\xa0Andrea\\', \\'By\\\\xa0Drea\\', \\'By\\\\xa0akjoyfullgirl\\', \\'By\\\\xa0LDupree\\', \\'By\\\\xa0Zoey D\\', \\'By\\\\xa0Andrea\\', \\'By\\\\xa0Abbi\\', \\'By\\\\xa0Carlene\\', \\'By\\\\xa0Roxy\\', \\'By\\\\xa0Hjay\\', \\'By\\\\xa0Mali\\', \\'By\\\\xa0D\\', \\'By\\\\xa0Holly foggy\\', \\'By\\\\xa0TT\\', \\'By\\\\xa0Peggy\\', \\'By\\\\xa0Jessie\\', \\'By\\\\xa0Monica\\', \\'By\\\\xa0Takk\\', \\'By\\\\xa0Ronda101\\', \\'By\\\\xa0Amanda\\', \\'By\\\\xa0Rissa\\', \\'By\\\\xa0Janey\\', \\'By\\\\xa0Ivy\\', \\'By\\\\xa0Allison\\', \\'By\\\\xa0Suzi\\', \\'By\\\\xa0ninakretina\\', \\'By\\\\xa0Artemis\\', \\'By\\\\xa0Mad O.\\', \\'By\\\\xa0Tamra\\', \\'By\\\\xa0Mad for Mascara!\\', \\'By\\\\xa0Trudy\\', \\'By\\\\xa0Amanda\\', \\'By\\\\xa0Jazz\\', \\'By\\\\xa0Mile High City\\', \\'By\\\\xa0Amakeupaddict\\', \\'By\\\\xa0haylie\\', \\'By\\\\xa0Erin\\', \\'By\\\\xa0bcmaine\\', \\'By\\\\xa0Morgan\\', \\'By\\\\xa0Daria\\', \\'By\\\\xa0DanniDee\\', \\'By\\\\xa0That girl A\\', \\'By\\\\xa0Jess\\', \\'By\\\\xa0savannah\\', \\'By\\\\xa0Ham\\', \\'By\\\\xa0Ljpra83\\', \\'By\\\\xa0NotaBeautyGuru7\\', \\'By\\\\xa0Evon\\', \\'By\\\\xa0angel\\', \\'By\\\\xa0Alex\\', \\'By\\\\xa0Phaces by Dimples\\', \\'By\\\\xa0JolieW\\', \\'By\\\\xa0Mata\\', \\'By\\\\xa0Rachel\\', \\'By\\\\xa0TC\\', \\'By\\\\xa0Sarah\\', \\'By\\\\xa0EJDS\\', \\'By\\\\xa0Saraika\\', \\'By\\\\xa0Lavi\\', \\'By\\\\xa0T-rex\\', \\'By\\\\xa0makeup soon\\', \\'By\\\\xa0Rachel\\', \\'By\\\\xa0MariaDdub\\', \\'By\\\\xa0Laney the Girl\\', \\'By\\\\xa0Mia\\', \\'By\\\\xa0TAF\\', \\'By\\\\xa0Mad\\', \\'By\\\\xa0Z_a_s\\', \\'By\\\\xa0Picky foundation user\\', \\'By\\\\xa0Lynn\\', \\'By\\\\xa0Anna\\', \\'By\\\\xa0Snoooyhurt\\', \\'By\\\\xa0Anuthabad_Britt\\', \\'By\\\\xa0Mary\\', \\'By\\\\xa0Betagal\\', \\'By\\\\xa0Christina\\', \\'By\\\\xa0marie\\', \\'By\\\\xa0Arlene\\', \\'By\\\\xa0SimoneM\\', \\'By\\\\xa0NayatheBeauty\\', \\'By\\\\xa0hegeste85\\', \\'By\\\\xa0Karen\\', \\'By\\\\xa0Maya\\', \\'By\\\\xa0Deanna\\', \\'By\\\\xa0Barbie\\', \\'By\\\\xa0Julie\\', \\'By\\\\xa0Wazzp\\', \\'By\\\\xa0Genie\\', \\'By\\\\xa0FLAGURL\\', \\'By\\\\xa0Keomi\\', \\'By\\\\xa0Vee\\', \\'By\\\\xa0krl\\', \\'By\\\\xa0Jayy\\', \\'By\\\\xa0Jayy\\', \\'By\\\\xa0Mary\\', \\'By\\\\xa0Robin\\', \\'By\\\\xa0Geni\\', \\'By\\\\xa0Shelly\\', \\'By\\\\xa0Lycynda\\', \\'By\\\\xa0VJ\\', \\'By\\\\xa0Jessica\\', \\'By\\\\xa0Not worth it\\', \\'By\\\\xa0uhlexxas\\', \\'By\\\\xa0Bw\\', \\'By\\\\xa0Angie\\', \\'By\\\\xa0Sonia\\', \\'By\\\\xa0Hails1215\\', \\'By\\\\xa0Pimpollita\\', \\'By\\\\xa0Rissa13\\', \\'By\\\\xa0Janie1098\\', \\'By\\\\xa0Mom of 4\\', \\'By\\\\xa0Dena\\', \\'By\\\\xa0Brookiehogan\\', \"By\\\\xa0KiariZhane\\'\", \\'By\\\\xa0Kimham\\', \\'By\\\\xa0Galaacctic\\', \\'By\\\\xa0jen\\', \\'By\\\\xa0M\\', \\'By\\\\xa0sara\\', \\'By\\\\xa0Ally\\', \\'By\\\\xa0Yvonne\\', \\'By\\\\xa0Panda\\', \\'By\\\\xa0Momma\\', \\'By\\\\xa0Dayana\\', \\'By\\\\xa0Dayana\\', \\'By\\\\xa0Smiley\\', \\'By\\\\xa0Elhull\\', \\'By\\\\xa0Elhull\\', \\'By\\\\xa0wendy\\', \\'By\\\\xa0Tica\\', \\'By\\\\xa0janie\\', \\'By\\\\xa0GlowByTC\\', \\'By\\\\xa0Melinda\\', \\'By\\\\xa0Combo skin girl\\', \\'By\\\\xa0Sarah\\', \\'By\\\\xa0Sha\\', \\'By\\\\xa0Sheli\\', \\'By\\\\xa0TheSassyTruth\\', \\'By\\\\xa0Kiara\\', \\'By\\\\xa0Sena\\', \\'By\\\\xa0mden\\', \\'By\\\\xa0Influence\\', \\'By\\\\xa0Narci\\', \\'By\\\\xa0csuslol\\', \\'By\\\\xa0csus\\', \\'By\\\\xa0Leena Babee\\', \\'By\\\\xa0Aubrey V\\', \\'By\\\\xa0ccsaunt\\', \\'By\\\\xa0Hannah\\', \\'By\\\\xa0Misty\\', \\'By\\\\xa0Jay\\', \\'By\\\\xa0Kayla\\', \\'By\\\\xa0Bekka\\', \\'By\\\\xa0Kat\\', \\'By\\\\xa0Vanessa\\', \\'By\\\\xa0SimplyWitty\\', \\'By\\\\xa0Yas\\', \\'By\\\\xa0Nyx fan\\', \\'By\\\\xa0Bpropes\\', \\'By\\\\xa0Jada\\', \\'By\\\\xa0AnaF\\', \\'By\\\\xa0Taylor\\', \\'By\\\\xa0Taylor\\', \\'By\\\\xa0Christina\\', \\'By\\\\xa0Lawalsh8\\', \\'By\\\\xa0MissELF\\', \\'By\\\\xa0Nugget\\', \\'By\\\\xa0Roxanna\\', \\'By\\\\xa0Rachel\\', \\'By\\\\xa0Embee\\', \\'By\\\\xa0Ahahn\\', \\'By\\\\xa0mary\\', \\'By\\\\xa0Cass\\', \\'By\\\\xa0Josalynn\\', \\'By\\\\xa0Josalynn\\', \\'By\\\\xa0Giovanna\\', \\'By\\\\xa0Stephanie\\', \\'By\\\\xa0Zen\\', \\'By\\\\xa0G\\', \\'By\\\\xa0Krysta\\', \\'By\\\\xa0Moon\\', \\'By\\\\xa0Kels\\', \\'By\\\\xa0Alyssa\\', \\'By\\\\xa0Cherry lips\\', \\'By\\\\xa0Amy kay\\', \\'By\\\\xa0RS\\', \\'By\\\\xa0Dani17\\', \\'By\\\\xa0Morgan\\', \\'By\\\\xa0Morgan\\', \\'By\\\\xa0Jamie\\', \\'By\\\\xa0KayPhill\\', \\'By\\\\xa0Sageparis\\', \\'By\\\\xa0Reggie with the veggies\\', \\'By\\\\xa0Brina\\', \\'By\\\\xa0kbell\\', \\'By\\\\xa0Ashley\\', \\'By\\\\xa0Kat\\', \\'By\\\\xa0Nobuns_bells\\', \\'By\\\\xa0Tiffany\\', \\'By\\\\xa0Mandy\\', \\'By\\\\xa0Mary\\', \\'By\\\\xa0Ct\\', \\'By\\\\xa0CT\\', \\'By\\\\xa0Cat\\', \\'By\\\\xa0Ab\\', \\'By\\\\xa0Zeezeetop\\', \\'By\\\\xa0Liz\\', \\'By\\\\xa0Adri\\', \\'By\\\\xa0Jada\\', \\'By\\\\xa0Tobeeornottobee\\', \\'By\\\\xa0Aly\\', \\'By\\\\xa0Ej\\', \\'By\\\\xa0Farrah\\'], \\'rrat\\': [\\'5\\', \\'5\\', \\'5\\', \\'5\\', \\'5\\', \\'5\\', \\'5\\', \\'1\\', \\'4\\', \\'3\\', \\'5\\', \\'5\\', \\'3\\', \\'3\\', \\'5\\', \\'5\\', \\'5\\', \\'5\\', \\'5\\', \\'2\\', \\'5\\', \\'4\\', \\'4\\', \\'5\\', \\'3\\', \\'5\\', \\'2\\', \\'5\\', \\'5\\', \\'5\\', \\'4\\', \\'4\\', \\'3\\', \\'5\\', \\'5\\', \\'5\\', \\'1\\', \\'5\\', \\'3\\', \\'5\\', \\'5\\', \\'1\\', \\'4\\', \\'2\\', \\'5\\', \\'4\\', \\'5\\', \\'5\\', \\'2\\', \\'5\\', \\'1\\', \\'5\\', \\'1\\', \\'3\\', \\'5\\', \\'5\\', \\'5\\', \\'1\\', \\'3\\', \\'5\\', \\'5\\', \\'5\\', \\'5\\', \\'4\\', \\'5\\', \\'5\\', \\'3\\', \\'3\\', \\'4\\', \\'3\\', \\'5\\', \\'5\\', \\'2\\', \\'5\\', \\'5\\', \\'2\\', \\'5\\', \\'5\\', \\'5\\', \\'5\\', \\'2\\', \\'5\\', \\'5\\', \\'5\\', \\'5\\', \\'4\\', \\'4\\', \\'4\\', \\'4\\', \\'5\\', \\'5\\', \\'5\\', \\'5\\', \\'2\\', \\'3\\', \\'5\\', \\'3\\', \\'1\\', \\'5\\', \\'5\\', \\'5\\', \\'4\\', \\'3\\', \\'1\\', \\'5\\', \\'5\\', \\'5\\', \\'5\\', \\'5\\', \\'4\\', \\'5\\', \\'3\\', \\'3\\', \\'4\\', \\'2\\', \\'5\\', \\'3\\', \\'4\\', \\'5\\', \\'5\\', \\'2\\', \\'2\\', \\'5\\', \\'4\\', \\'5\\', \\'4\\', \\'4\\', \\'4\\', \\'2\\', \\'5\\', \\'4\\', \\'5\\', \\'4\\', \\'5\\', \\'5\\', \\'5\\', \\'5\\', \\'5\\', \\'5\\', \\'5\\', \\'5\\', \\'5\\', \\'5\\', \\'5\\', \\'5\\', \\'5\\', \\'5\\', \\'5\\', \\'5\\', \\'5\\', \\'4\\', \\'3\\', \\'5\\', \\'3\\', \\'4\\', \\'5\\', \\'5\\', \\'5\\', \\'5\\', \\'5\\', \\'1\\', \\'3\\', \\'5\\', \\'3\\', \\'5\\', \\'5\\', \\'4\\', \\'5\\', \\'4\\', \\'5\\', \\'5\\', \\'5\\', \\'5\\', \\'5\\', \\'5\\', \\'5\\', \\'5\\', \\'5\\', \\'5\\', \\'5\\', \\'5\\', \\'5\\', \\'3\\', \\'5\\', \\'5\\', \\'2\\', \\'5\\', \\'5\\', \\'3\\', \\'5\\', \\'4\\', \\'5\\', \\'2\\', \\'3\\', \\'5\\', \\'5\\', \\'4\\', \\'5\\', \\'5\\', \\'5\\', \\'4\\', \\'5\\', \\'4\\', \\'5\\', \\'3\\', \\'4\\', \\'5\\', \\'5\\', \\'3\\', \\'5\\', \\'5\\', \\'5\\', \\'5\\', \\'4\\', \\'4\\', \\'5\\', \\'3\\', \\'1\\', \\'5\\', \\'5\\', \\'4\\', \\'4\\', \\'3\\', \\'3\\', \\'3\\', \\'4\\', \\'4\\', \\'4\\', \\'5\\', \\'4\\', \\'3\\', \\'3\\', \\'5\\', \\'3\\', \\'5\\', \\'4\\', \\'2\\', \\'5\\', \\'3\\', \\'5\\', \\'4\\', \\'3\\', \\'5\\', \\'4\\', \\'4\\', \\'4\\', \\'5\\', \\'5\\', \\'4\\', \\'4\\', \\'4\\', \\'4\\', \\'4\\', \\'5\\', \\'4\\', \\'1\\', \\'2\\', \\'5\\', \\'4\\', \\'3\\', \\'4\\', \\'4\\', \\'4\\', \\'5\\', \\'4\\', \\'5\\', \\'5\\', \\'4\\', \\'3\\', \\'4\\', \\'2\\', \\'4\\', \\'4\\', \\'5\\', \\'4\\', \\'4\\', \\'4\\', \\'4\\', \\'5\\', \\'4\\', \\'5\\', \\'4\\', \\'4\\', \\'3\\', \\'5\\', \\'5\\', \\'4\\', \\'4\\', \\'4\\', \\'4\\', \\'4\\', \\'4\\', \\'5\\', \\'4\\', \\'4\\', \\'4\\', \\'4\\', \\'4\\', \\'4\\', \\'5\\'], \\'rdate\\': [\\' 15 days ago\\', \\' 16 days ago\\', \\' 23 days ago\\', \\' 23 days ago\\', \\' 27 days ago\\', \\' 27 days ago\\', \\' 28 days ago\\', \\' 1 month ago\\', \\' 1 month ago\\', \\' 2 months ago\\', \\' 2 months ago\\', \\' 2 months ago\\', \\' 2 months ago\\', \\' 2 months ago\\', \\' 2 months ago\\', \\' 2 months ago\\', \\' 2 months ago\\', \\' 2 months ago\\', \\' 2 months ago\\', \\' 3 months ago\\', \\' 3 months ago\\', \\' 3 months ago\\', \\' 3 months ago\\', \\' 3 months ago\\', \\' 3 months ago\\', \\' 3 months ago\\', \\' 3 months ago\\', \\' 4 months ago\\', \\' 4 months ago\\', \\' 4 months ago\\', \\' 4 months ago\\', \\' 4 months ago\\', \\' 4 months ago\\', \\' 4 months ago\\', \\' 4 months ago\\', \\' 5 months ago\\', \\' 5 months ago\\', \\' 5 months ago\\', \\' 5 months ago\\', \\' 5 months ago\\', \\' 5 months ago\\', \\' 5 months ago\\', \\' 5 months ago\\', \\' 6 months ago\\', \\' 6 months ago\\', \\' 6 months ago\\', \\' 6 months ago\\', \\' 6 months ago\\', \\' 6 months ago\\', \\' 7 months ago\\', \\' 7 months ago\\', \\' 7 months ago\\', \\' 7 months ago\\', \\' 7 months ago\\', \\' 7 months ago\\', \\' 7 months ago\\', \\' 7 months ago\\', \\' 7 months ago\\', \\' 7 months ago\\', \\' 7 months ago\\', \\' 7 months ago\\', \\' 7 months ago\\', \\' 7 months ago\\', \\' 7 months ago\\', \\' 8 months ago\\', \\' 8 months ago\\', \\' 8 months ago\\', \\' 8 months ago\\', \\' 8 months ago\\', \\' 8 months ago\\', \\' 8 months ago\\', \\' 8 months ago\\', \\' 8 months ago\\', \\' 8 months ago\\', \\' 8 months ago\\', \\' 8 months ago\\', \\' 8 months ago\\', \\' 8 months ago\\', \\' 8 months ago\\', \\' 8 months ago\\', \\' 9 months ago\\', \\' 9 months ago\\', \\' 9 months ago\\', \\' 9 months ago\\', \\' 9 months ago\\', \\' 9 months ago\\', \\' 9 months ago\\', \\' 9 months ago\\', \\' 9 months ago\\', \\' 9 months ago\\', \\' 9 months ago\\', \\' 10 months ago\\', \\' 10 months ago\\', \\' 10 months ago\\', \\' 10 months ago\\', \\' 10 months ago\\', \\' 10 months ago\\', \\' 10 months ago\\', \\' 10 months ago\\', \\' 10 months ago\\', \\' 10 months ago\\', \\' 10 months ago\\', \\' 10 months ago\\', \\' 10 months ago\\', \\' 10 months ago\\', \\' 10 months ago\\', \\' 10 months ago\\', \\' 10 months ago\\', \\' 10 months ago\\', \\' 10 months ago\\', \\' 11 months ago\\', \\' 11 months ago\\', \\' 11 months ago\\', \\' 11 months ago\\', \\' 11 months ago\\', \\' 11 months ago\\', \\' 11 months ago\\', \\' 11 months ago\\', \\' 11 months ago\\', \\' 11 months ago\\', \\' 1 year ago\\', \\' 1 year ago\\', \\' 1 year ago\\', \\' 1 year ago\\', \\' 1 year ago\\', \\' 1 year ago\\', \\' 1 year ago\\', \\' 1 year ago\\', \\' 1 year ago\\', \\' 1 year ago\\', \\' 1 year ago\\', \\' 1 year ago\\', \\' 1 year ago\\', \\' 1 year ago\\', \\' 1 year ago\\', \\' 1 year ago\\', \\' 1 year ago\\', \\' 1 year ago\\', \\' 1 year ago\\', \\' 1 year ago\\', \\' 1 year ago\\', \\' 1 year ago\\', \\' 1 year ago\\', \\' 1 year ago\\', \\' 1 year ago\\', \\' 1 year ago\\', \\' 1 year ago\\', \\' 1 year ago\\', \\' 1 year ago\\', \\' 1 year ago\\', \\' 1 year ago\\', \\' 1 year ago\\', \\' 1 year ago\\', \\' 1 year ago\\', \\' 1 year ago\\', \\' 1 year ago\\', \\' 1 year ago\\', \\' 1 year ago\\', \\' 1 year ago\\', \\' 1 year ago\\', \\' 1 year ago\\', \\' 1 year ago\\', \\' 1 year ago\\', \\' 1 year ago\\', \\' 1 year ago\\', \\' 1 year ago\\', \\' 1 year ago\\', \\' 1 year ago\\', \\' 1 year ago\\', \\' 1 year ago\\', \\' 1 year ago\\', \\' 1 year ago\\', \\' 1 year ago\\', \\' 1 year ago\\', \\' 1 year ago\\', \\' 1 year ago\\', \\' 1 year ago\\', \\' 1 year ago\\', \\' 1 year ago\\', \\' 1 year ago\\', \\' 1 year ago\\', \\' 1 year ago\\', \\' 1 year ago\\', \\' 1 year ago\\', \\' 1 year ago\\', \\' 1 year ago\\', \\' 1 year ago\\', \\' 1 year ago\\', \\' 1 year ago\\', \\' 1 year ago\\', \\' 1 year ago\\', \\' 1 year ago\\', \\' 1 year ago\\', \\' 1 year ago\\', \\' 1 year ago\\', \\' 1 year ago\\', \\' 1 year ago\\', \\' 1 year ago\\', \\' 1 year ago\\', \\' 1 year ago\\', \\' 1 year ago\\', \\' 1 year ago\\', \\' 1 year ago\\', \\' 1 year ago\\', \\' 1 year ago\\', \\' 1 year ago\\', \\' 1 year ago\\', \\' 1 year ago\\', \\' 1 year ago\\', \\' 1 year ago\\', \\' 1 year ago\\', \\' 1 year ago\\', \\' 1 year ago\\', \\' 1 year ago\\', \\' 1 year ago\\', \\' 1 year ago\\', \\' 1 year ago\\', \\' 1 year ago\\', \\' 1 year ago\\', \\' 1 year ago\\', \\' 1 year ago\\', \\' 1 year ago\\', \\' 1 year ago\\', \\' 1 year ago\\', \\' 1 year ago\\', \\' 1 year ago\\', \\' 1 year ago\\', \\' 1 year ago\\', \\' 1 year ago\\', \\' 1 year ago\\', \\' 1 year ago\\', \\' 1 year ago\\', \\' 1 year ago\\', \\' 1 year ago\\', \\' 1 year ago\\', \\' 1 year ago\\', \\' 1 year ago\\', \\' 1 year ago\\', \\' 1 year ago\\', \\' 1 year ago\\', \\' 1 year ago\\', \\' 1 year ago\\', \\' 1 year ago\\', \\' 1 year ago\\', \\' 1 year ago\\', \\' 1 year ago\\', \\' 1 year ago\\', \\' 1 year ago\\', \\' 1 year ago\\', \\' 1 year ago\\', \\' 1 year ago\\', \\' 1 year ago\\', \\' 1 year ago\\', \\' 1 year ago\\', \\' 1 year ago\\', \\' 1 year ago\\', \\' 1 year ago\\', \\' 1 year ago\\', \\' 1 year ago\\', \\' 1 year ago\\', \\' 1 year ago\\', \\' 1 year ago\\', \\' 1 year ago\\', \\' 1 year ago\\', \\' 1 year ago\\', \\' 1 year ago\\', \\' 1 year ago\\', \\' 1 year ago\\', \\' 1 year ago\\', \\' 1 year ago\\', \\' 1 year ago\\', \\' 1 year ago\\', \\' 1 year ago\\', \\' 1 year ago\\', \\' 1 year ago\\', \\' 1 year ago\\', \\' 1 year ago\\', \\' 1 year ago\\', \\' 1 year ago\\', \\' 1 year ago\\', \\' 1 year ago\\', \\' 1 year ago\\', \\' 1 year ago\\', \\' 1 year ago\\', \\' 1 year ago\\', \\' 1 year ago\\', \\' 1 year ago\\', \\' 1 year ago\\', \\' 1 year ago\\', \\' 1 year ago\\', \\' 1 year ago\\', \\' 1 year ago\\', \\' 1 year ago\\', \\' 1 year ago\\', \\' 1 year ago\\', \\' 1 year ago\\', \\' 1 year ago\\', \\' 1 year ago\\', \\' 1 year ago\\', \\' 1 year ago\\'], \\'review\\': [\\'This replaced my Nars Natural Radiant foundation. My first color match was a bit orange so I repurchased in a different shade. I love it that much. The consistency is so light but it has good coverage! You should build up the coverage opposed to applying a ton of product at once.\\', \\'My skin tone is very neutral/yellow and some days leans very neutral/olive. Finding good neutral foundations at the drugstore is not always easy as most run warm yellow or pink. The shade Nude is an AMAZING choice for olive or neutral olive skin tones! I feel like I match my body perfect. Thanks for looking out NYX!!!!\\', \"This is one of my favs on the drug store end! I have tons of different foundations including a few high end but this seems to always be my go to. I have combo skin and it I usually set it with either airspun or sacha buttercup setting powder and it looks so pretty!! I read a comment about it looking patchy with the elf camo concealer and I have to admit I didn\\'t like that concealer AT ALL. It made mine look patchy too so I prefer either neutrogena or colour pop hyaluronic concealer and it all blends so nicely! I use the color cappuccino for reference\", \\'I tried this foundation on a whim and fell in love. I have always struggled to find foundations that work for me. This one, while not perfect, is amazing!! Make sure you have a good primer to use with it!!\\', \"I typically use the nars sheer glow but I kept hearing good things about the NYX born to glow. I was kind of skeptical because a lot of drug store foundations are to matte for my skin and my skin type is dry. When I bought this I was so shocked how well and how quick it dried! I love that it stayed all day, didnt smell like anything which was good for me & it didn\\'t crease or didn\\'t look greasy, instead it gives you a natural flawless look. If you have dry skin, this is a good option!\", \\'I found my perfect shade in this foundation, and the formula is great for my dry skin.  I set my oily T-zone with a mattifying powder, and Im good to go!\\', \\'Use daily.\\', \\'It turned my entire face orange. It was thick, greasy,  and overall bad.\\', \"This worked good for my dry skin. I\\'d recommend.\", \"I have very very dry skin right now, and this foundation just exaggerated every crease and fine line I have, and looked sooo cakey on my dry spots, especially around my mouth. On my cheeks where I\\'m not as dry, it looks beautiful so if you don\\'t have dry skin this might work for you. I\\'m so bummed because it was a really great color match too, but oh well.\", \"This foundation is so beautiful. It does leave a lovely radiant, glow finish. It\\'s not patchy and blends seamlessly. Easy to build. I have dry skin with rosacea and this was a gorgeous finish to my skin and did not show texture. I was able to layer contour blush and highlight without it coming off. And I lightly dusted with powder without removing the lovely glow. Hopefully this foundation will be around for a long time bc I don\\'t think I\\'ll find another one as good and I really want to try the concealer and any other products in this line.\", \\'I wear foundation because of my uneven, blotchy skin and this is great for that. Seemed to last all day, impressed for the price!\\', \"not sure if it was the e.l.f hydrating camo concealer or this but it gave my t-zone a patchy area:/ I loved the way it felt on my skin. and I have oily skin for reference , it left me with such a dewy look. I only wanted to try this cause it\\'s a dupe for the Fenty foundation.\", \\'this is really runny and doesnt have much coverage at all. ive been looking to replace my foundation that was discontinued and this was no match to that\\', \\'Omg! This foundation is fully covered and awesome ❤️\\', \"This foundation is great and the price is even better such a natural look you don\\'t need much unless that\\'s what you like!! I brought the shade deep/ cool and deep walnut both are cool undertone.. what\\'s weird is they are almost identical in shade walnut is a tad darker!!! I HIGHLIGHTED with Nyx concealer In cappuccino IT BLENDED PERFECT NOT THAT BRIGHT BRIGHT WEIRD LOOK LIKE YOU TRYING TO HARD!!! GREAT COMBINATION FOR ME!!! Wish we could insert Pics\", \"This foundation is beautiful; I got it on a whim to match my fall/winter skin since my summer shades are now too dark. It\\'s stunning. There are so many shades, I landed on Golden Honey and it\\'s PERFECT. The formulation is a little watery, and the finish is extremely radiant, so I probably wouldn\\'t recommend if your skin is already oily. I, however, and painfully dry skin. This foundation is really hydrating. Highly recommend.\", \"When I\\'m in a pinch and not buying $40+ foundation this is my go to for a supple and full coverage budget friendly liquid foundation! I use a makeup sponge with it and it covers all my imperfections and dark acne spots really well. Nyx\\'s other born to glow products are gems as well and pair nicely :)\", \"This foundation is smooth and gives great medium coverage. It\\'s buildable without looking cakey. I ended up putting too much on in one layer, which looked cakey, so thin layers are best with this formula. I do like how smooth and easy to blend the formula is. I\\'ve used a buffer brush and my hands, both look great!\", \"This was far heavier than I was hoping, and it really emphasized the pores on my chin. I look better without makeup than with this. It made me look like I was trying to cover up my freckles, which is not my goal. I also wouldn\\'t call this radiant. It looked pretty matte and cakey on my skin. Even though the overall shade range is great, I am very fair, and the shades in that range are too yellow in tone for me.\", \"I love this it\\'s so smoothing and natural looking yet gives you coverage it\\'s my everyday fav ! So beautiful on the skin and long wearing !\", \"This was pretty good especially at such a good price! It does have good staying power and a nice glow. You have to be careful because it\\'s kinda watery and cones out fast. Good coverage.\", \"This is by far my favorite foundation I just tried today! The formula is very creamy and easily blends with a beauty blender. The foundation doesn\\'t appear cake-y nor bumpy like most issues with foundations. It\\'s a product that can easily be buildable if you want a more full coverage look. Only thing is I wish the product didn\\'t run out so fast!\", \\'I have naturally dry skin and this foundation gives a lovely and lively glow to my face. It looks natural yet perfect - a healthy shine, especially on the cheekbones and it wears beautifully. I would not use this if I had oily skin, but this is a savior for the dry-skinned!\\', \\'Not for oily, acne prone textured skin . \\\\nThis foundation emphasized my texture and you need a lot of foundation to get full coverage. \\\\nIf you have have good clear skin , you will like this .\\', \"This is seriously my holy grail foundation. It\\'s literally a high medium/low full coverage. It\\'s glowy but matte. I get so many compliments every time I wear this foundation. I recommend it to everyone. I have dry/combo skin and even when I go to work and get all sweaty it still looks great and holds up. I wear it set and not set. I have like 10 backups!\", \\'My face looked like I have a layer of dry patchy skin on. Not for me.\\', \"I\\'m in love with this foundation! I usually have dry skin and this always covers any redness and makes my skin look beautiful and radiant with a hint of dew. It\\'s a holy grail product for me and I would definitely recommend.\", \\'Just grabbed this product to try it out and now it is my go to foundation.  I love that it is not cakey and you end up with a beautiful glow.\\', \"Fantastic coverage but I have a problem free skin. The coverage shocked me in a good way. I got the shade vanilla and I love it. I use a brush to apply this.  I do not need coverage so I need a little of this foundation. The finish is great radiant but not too greasy and it doesn\\'t move around. I can\\'t comment on the lasting effect of this because I don\\'t wear foundation that long, just during work a little. I\\'m 33 years old with normal skin and no texture.\", \\'I tried this foundation on a day I didn\\\\\\'t care about my makeup because I am sooo picky about my foundation. I like full coverage, no cake, not heavy, etc. I bought this because I saw good reviews and it was on sale. I tried it and kept asking my friends, \"do you like my foundation?\" because I was shook at how I liked it. It;s definitely perfect for an everyday foundation so I can save my expensive foundation for night time festivities.\\', \"I\\'m use to wearing the expensive foundation but because of corona and having to wear these mask I don\\'t wanna waste my good foundation.\", \"This isn\\'t a GREAT foundation but it also isn\\'t bad. I don\\'t think I would wear this on it\\'s own just simply because it\\'s pretty light coverage and it transfers easily even after setting with powder and setting spray. I have found that I LOVE the look I get when I mix this with my urban decay stay naked. Both foundations are a super lightweight watery consistency so they go on amazing but the stay naked has more coverage and staying power so it helps the nyx foundation a lot. I also get my perfect shade mixing the two so that\\'s a plus. I\\'ll use this up and depending on how many foundations I have at the time I\\'ll buy it again to mix with my stay naked since I do love the look it gives. I have oily skin btw and this wears decently in the heat and photographs nice\", \"My holy grail foundation now. I have dry mature skin, doesn\\'t emphasize lines. Love it.\", \\'I was actually really surprised with how natural this foundation looks as well as the coverage. It is pretty dang good. And it is an amazing price! Will be buying again.\\', \\'Love how easy it goes on\\', \\'Not full coverage or any coverage at all!\\', \\'Love. Radiant, dewy finish (but not slick or oily). Great light to medium coverage. Buildable. Feels lovely. Could be my HG!\\', \"I had heard such fantastic reviews on this product and I really was expecting to love it. \\\\nI don\\'t. I just really don\\'t like it much. I was able to get a fairly good match for this and when first applying it, I don\\'t think it\\'s horrible. \\\\nThe problem is that as you go through the day this becomes oxidized, patchy and it separates like crazy. I have tried with with primers, setting powders, etc, and nothing seems to help. At the end of the day, this is a sticky mess and a waste of money.\", \\'I like the color and I like the way it looks on my skin\\', \\'Great coverage\\', \\'No matter what I tried with it, it made it look horrible and patchy.  I couldn\\\\\\'t find a match either and the \"glow\" doesn\\\\\\'t look good, I had to cover it with matte powder cause it looked so bad. I returned it.\\', \\'I was using the Maybelline 24Hr SuperStay for its full coverage, love it, but I did notice a dry patch, never had seen that before. So I would mix it with my beloved No 7 Lift & Luminate. All was well but still my one pesky age spot showed. Then I tried the NYX Born to Glow by itself over a cheap primer and the age spot was covered, my dry skin did not look overly dewy, just luminous. The only reason I am not giving it 5 stars is that oddly sometimes the spot does show thru, so then I use it with the Maybelline 24HrSuperStay. Dries down well, no tackiness, able to pick the right shade after watching a few YT videos. Highly recommend esply for us older gals!\\', \\'Color is off\\', \"I love this foundation!\\'\", \\'Product goes on smooth and is buildable. I am not sure it is necessary \"glow\" worthy. It worked well with my other product also.\\', \\'I had recently purchased the Maybelline 24HR Super-Stay fdtn which is very full coverage and yet it showed up some dry patches that I didnt know I had (mature woman here) and did not cover my one shrinking age spot ( dru fast and it keeps getting paler, yay!). I used that with my beloved No7 Lift and Luminate which helps improve my skin, makes the Maybellline look more luminous aka less dry but does not cover the age spot. This one by NYX? Does all of the above: full coverage even of that age spot, luminous coverage as well, no dry patches to be seen. Somehow I managed to pick the right shade online which for me is Vanilla. The NYX website is not helpful on shades but YT reviewers are lol tho I had to watch sooo many. I hear it is not great for oily skin but I have dry skin so for me this is a huge win and the price is great!\\', \"Nice light to medium coverage. I bought shade  nude and it\\'s a bit dark, but it blends in fine. Works well over sunscreen so long as you let SPF dry down first. Not particularly glowy or matte either. I set with very light powder.\", \\'First off, this foundation is extremely runny/thin. It has very little coverage but the finish is beautiful. This is definitely not a long wearing/full coverage product. I would recommend this to normal-dry skin who want light coverage and a dewy finish. Made me too oily every hour.\\', \\'I picked mine up from target because my shade was always sold out. OMGOSH this has quickly become my favorite go to foundation. The coverage is great and the finish is absolutely beautiful. My shade is a\\\\nPerfect match.\\', \\'It was the wrong shade.\\', \\'This looks amazing on my skin and feels lightweight on the skin.\\', \\'When I first tried this foundation it gave my skin a nice glow and I loved the look but it does not last, makes my skin feel so oily and if I even ran my finger over my face it would leave a mark in it.\\', \"I don\\'t find it to be super glowy, and i would not recommend for dry skin. It can form dry patches you didn\\'t even realize you had.\", \\'This foundation does transfer easily onto clothes, but it looks AMAZING on skin\\', \\'This is great for folks who want that youthful glow but are naturally more shiny and don\\\\\\'t want their makeup sliding off. I have quite normal skin slightly leaning combo and this is the perfect consistency for me. It leaves my skin very close to its natural texture but obviously perfected. For me, it kinda has that soft, natural beauty, movie \"no makeup\" teenager skin. Idk how to describe it. Flawless, Chloe Grace Moretz, peach fuzzy young skin. Haha\\', \"this is a great foundation. gives a healthy glow. it\\'s a suuuuuper runny formula. i have to set this with a powder. if you change your shirt or your boo gives you a kiss, it will transfer FYI. looks super healthy! great shade range as well.\", \"I picked the color Pale as I am very light with warm undertones. The color itself was a good match however, the product was a joke. It was basically yellow water. I tried applying the makeup on bare skin or with various products underneath to see if that would make a difference. I shook the bottle. Applied with fingers and sponge blender. Nothing made this foundation work. It was splotchy and barely did anything except make the texture of my face look strange. I\\'m shocked by how watery it is; I usually like this brand\\'s products. I don\\'t know if I got a bad batch but this was a total waste of money.\", \"I tried mixing this with my moisturizer and it\\'s much better.... thought it would be more transparent\", \\'Natural finish and great coverage! I love the concealer too!\\', \"All day wear with a full coverage that\\'s breathable. It looks natural and gives you a healthy glow as if your skin is flawless. \\\\n\\\\n I\\'m definitely switching from my Lancome Full coverage foundation to Nyx.\\\\n\\\\n I bought the concealer to go with it and it\\'s perfect. I set both with a setting powder & it lasted all day. No separation or cracking.\", \\'The shade nude was a perfect match and didnt oxidize at all. Longwearing and the medium coverage is covers acne scars while letting my skin breath. I can put cream blush and contour over it without the foundation being disturbed. My only issue is that i need to have moisturizer under or else itll emphasize dry spots but its not a deal breaker.\\', \"I tried it on a whim. I bought nutmeg and warm honey. Nutmeg is a shade too dark and warm honey is a shade too light, so I mix them and it\\'s perfect. I am going to try cinnamon next. To me it compares very well to my Fenty foundation.\", \"Pros: goes on smoothly, warms to my skin tone (oxidizes), light-weight feel, buildable coverage, convenient tube container and looks very natural vs the Can\\'t Stop Don\\'t Stop\\\\n\\\\nCons: it rubs off very easily. If you need coverage, you\\'ll need to carry this with you because one swipe of your finger and it\\'s off your face and transferring wherever your fingers touch. If you have oily skin like me, this makeup won\\'t stay in place all day. You\\'ll need touch ups and setting powder 😑\", \\'My favorite foundation of all time\\', \"I love this foundation I have super dry skin which is new for me. I was used to oil but I guess body\\'s change. This foundation has been my go to since.\", \"I would say when it is sheer to medium coverage that seems to be good when first buying it but would not buy it again. Doesn\\'t last long and separates after a long wear, its ok for 3 to 5 hours but I would not plan to wear it out to a party.\", \"For reference i have combination,acne prone skin and have medium tan skin with yellow/olive undertone. pros about this foundation are that it did not break me out and the coverage is buildable. The cons are that it applies splotchy when i use a sponge,it doesn\\'t blend well, it\\'s too thick and the yellow/olive shades are not great. i couldn\\'t find my perfect match so i went with true beige and its orange..\", \"I\\'m 35 with combination skin and I want hesitant about purchasing this, but I wanted a cheaper foundation to wear on the weekends. WOW just wow, the coverage is medium and goes on best with a dry beauty blender. I used the ELF poreless putty primer on my forehead and the Tarte hydrating primer on the rest of my face prior to applying the foundation. l used the Tarte loose translucent powder to set it and some setting spray and it lasted 12 hours. I had minor cracking around my lip mid-day but I\\'m 35 so it\\'s normal at my age to start seeing the fine lines. I really recommend this foundation and I will be buying a few backups!\", \"I would love the product it\\'s just the wrong color\", \\'Love NYX products\\', \"Feels great on the skin. Gives a skin like finish. I love that their shades match across the board on all the foundations so it wasn\\'t difficult to choose online. Definitely will purchase again.\", \"I have dry skin (foundation shade reference fenty 420), so I didn\\'t think that a radiant foundation would be an issue for me. I\\'ve never looked so greasy. I felt like I was wearing baby oil or vaseline. This did not work out for me at all.\", \"I have been wanting to try this and had to pick my shade using help from the NYX website due to quarantine. I love that they have the product for different skin tones. I ended up with a neutral and at first though it was too yellow but after blending it on my skin it was the perfect color. It\\'s a thinner consistency that I expected but it covered well without looking too heavy. I think this is my new go to!\", \\'Love it\\', \"I thought this would be great because Gemma on the Pampered Wolf channel raves about this foundation and I usually love her recommendations. BUT, this just did not work for me. Slides around then looks cakey and breaks up after just a few hours.  I just don\\'t get it.\", \"This foundation is great and overs a good shade range. It does show some fine lines but it\\'s nothing a little powder can\\'t do.\", \"I have dry skin but this looks flawless on my face. I\\'ve been trying different foundations but none of them compare to how this one looks and lasts.\", \"I have worn this for 2 weeks now and I officially love it! I am a makeup hoarder and have about 40 other foundations but this is my top dog. It ticks all my boxes. It\\'s medium coverage, hydrating, luminous but not overboard, long lasting, and it\\'s not a million dollars, and most importantly, doesn\\'t emphasize any wrinkles or lines on my 43 year old face. I use the matching concealer and it\\'s a great combo.\", \"I bought two different shades to try after getting a sample card with a previous purchase and one was a winner! I have annoyingly dry skin that repels and creases randomly, and this is working well! I set it with a hydrating powder on a beauty blender. My only complaint is it doesn\\'t cover veins or dark spots well and trying to build coverage resulted in splotches.\", \\'I loved the shade range and found one pretty close to my skin tone but it sat very weird on my skin. Directly after application i saw how it accentuated my dry spots and texture. It broke up on my chin and nose and all my dry portions of my face. Disappointing but it could always work for others\\', \\'Very easy to use and works great\\', \\'The foundation wore well and was just the right amount of glow. Just a hint.... more of a soft focus... I have dry skin so this brought a much needed oomph.... great value!\\', \\'despite having combo skin, this sits beautifully on my skin and leaves it looking dewy, healthy, and gorgeous\\', \\'I never thought this would be one of my top favorite foundations but it is. it gives a dewy radiant finish without being too heavy. Beautiful and flawless! I recommend using it with the glow primer.\\', \\'I wore this to work (10 hr shift) and by the end of my shift I still had it on without it creasing! My skin still looked beautiful. I like that it looks natural and not \"cakey\" on the skin. I always wear primer under my foundation to make my skin look nice. If you\\\\\\'re looking for a foundation that lasts long, looks natural, isn\\\\\\'t expensive, then this is the right one for you! I\\', \"It\\'s a good medium coverage everyday foundation for me. The color beige is a great match. The finish in my opinion is more satin and natural but not dewy. I got this foundation to even my skintone for easy makeup days. I have oily skin, so I knew what I was getting into when I bought it. It\\'s not long wearing on me even though I set with powder. I get a good 6-7 hrs before the foundation starts to break up and disappear on my face. My only issue is with the packaging. For a runny foundation I think a bottle with pump would have been better.\", \\'Never disappointed with NYX.  I e several.products and love them all.  This foundation coverage is perfect for me and so is the price.\\', \\'I was so excited when i finally found this foundation.\\\\nGreat coverage,light weight,a little glowy but not oily,no sent, and range of colors.The only reason i dont give it five starts the packaging i wish it had a pump for the price.\\', \\'This is my go-to daily foundation.  I like a dewy, smooth look to my skin.  This does so with out having to wear a ton to have good coverage.  Dries down very similarly to the shade and stays put with and without a setting powder.\\', \"I watched reviews before I purchased and was intrigued. I was so pleased at this foundation! It\\'s a light-medium coverage, and is buildable. I only use one coat... I like my skin to peek through! I usually wear natural beige in everything, but the shade I chose for this was the medium olive because it was definitely more neutral than yellow, but not SO yellow as the next fit, which was buff.  Matching was a little tricky. \\\\nStaying power was actually very good! I lightly set with Laura Mercier candle glow powder. Did not crease in forehead lines or around the nose or mouth. It\\'s radiant without getting shiny and didn\\'t accentuate things like the crevices around the nose where some glowy foundations can betray me at. \\\\nReally a winner!\", \"With the correct tool for application, this foundation is amazing! It has great coverage, and depending on the right brush or sponge, doesn\\'t break up throughout the day. I\\'ve been using this since January with different products under and over it, and I think it\\'s great. Holds up far better than the Fenty foundation did. Was nervous to try, but I\\'m pleasantly pleased!\", \\'Seriously, this is amazing!  Not only is the price perfect but so was my coverage.\\', \\'I was very disappointed in this product. I was hoping for a dewy finish, but it appears very matte and dry. It cracks VERY easy, even with primer under and setting spray afterwards. I have worn it for three days now and it keeps turning out the same.\\', \"I\\'ve been on the hunt for a hydrating light-to-medium tinted moisturizer or foundation for day-to-day use. While the shade match was great and looked nice and luminous from afar, it looked like it sat on my skin and never really meshed with my skin and made my dry skin look textured, when texture isn\\'t an issue for me. It also always came out streaky whenever I used a brush to apply it, most likely because it feels like a lotion when you put it on. but it\\'s typically my preferred method for foundation application. Using a beauty sponge is the only way I liked the finish. If you did the whole process of priming and setting, it could look really nice if you took the extra steps to help it set better on the skin. But for something to just slap on for simpler day to day application, it\\'s not worth taking those extra steps. I\\'d rather just reach for another foundation.\", \"I\\'ve used several foundations over the years high end, mid range and drug store brands. I decided to give this one a try after reading about it a d standing in Ultra scouring the store for quite some time. Inky bought 1 tube of foundation and concealer because I wasn\\'t sure if I\\'d like it.  My skin is more of an olive undertone and I\\'m dark skinned so I picked Walnut and I loved how smoothly it went on! Not cakey at all, it lasted all day. I didn\\'t have any issues or problems with it getting on my clothes or shirt or collar of my shirt as I did with other brands. I\\'ve received many compliments on my face since switching from the high end brand too. I\\'m very pleased with it. \\\\n\\\\nI purchased my first tube about 2 months ago of foundation and am still using that tube but I went out and bought 4 more. The concealer goes much more quickly in my opinion, so I did purchase 6 at a time of the concealer on my return trip to Ulta. \\\\n\\\\nI didn\\'t realize until I read a review that you should use a matte finishing spray? I bought Urban Decay brand which is not a matte spray that works rather well.\\\\n\\\\nI will continue to use this foundation because I love the coverage, the glow color .watch and cost!\", \"Let\\'s start with the positives. This is an affordable foundation with nice, buildable coverage. It has a beautiful dewy finish. I don\\'t like the dewy look on me, but with this product I don\\'t mind. This goes great with the concealer and is very easy to blend. Let\\'s look at the cons. I use the concealer too, and they both made me break out. So might not be suitable for sensitive skin. The bottle is just a normal unscrew the cap squeeze bottle, but it\\'s hard to use with such a runny product. Even with the use of primer and setting powder, one wrong move and the foundation comes right off. Overall it has a beautiful finish and easy application.\", \\'Switched to Clinique bc this broke me out\\', \"Seriously, this product is amazing! I love it! I accidentally bought a color that was a bit too dark; my own fault. But nonetheless, this product looks so gorgeous on the skin! If youre looking for full coverage, this product ain\\'t it, it\\'s definitely a light coverage as my freckles can show through. This foundation evens out your skin tone and looks so natural! Definitely would recommend!\\\\n\\\\nXoxo, \\\\n     Gossip girl 💋\", \"I love this foundation!! I am a full coverage, glow to the heavens, paint my face queen!! I have no issues spending 50 dollars on a foundation but lately I\\'ve been exploring the more affordable side of ulta and this is a hit!! I color matched this to my fav IT cosmetics shade and gave it a spin and found the coverage a perfect dupe just a little more hydrating. I get compliments on my makeup everytime i wear this product and it stays glowy and natural looking through my whole 10 hour shift! Try this out! It blends easily, sets well with both expensive and affordable powders, and moves with your skin!!!\", \"Every drugstore foundation I\\'ve tried is either too cakey or the shades are not a good match for me. This NYX Born to Glow foundation is awesome. The formulation itself is light, not very heavy. On myself it offers light to medium coverage. I did find it to be buildable. It is dewy, but not overwhelmingly so. Biggest con is that in the heat when you sweat it doesn\\'t seem long lasting. However, the thing is when it runs off it actually looks ok. Sometimes when foundations wear off it looks terrible, but your face can wear off in this and still look decent with a touch up.\", \\'I love how it covers\\', \"I love the way this looks on, beige is my perfect match, and it feels great...BUT it slides right off! Like no matter what spray and primer I use it doesn\\'t help and already messed up 2 pieces of clothes in my 1st week using it!\", \"I bought this and used it twice before tossing it. I really wanted to love it so so bad but it wasn\\'t there for me. It looked great when i first put it on and after maybe 30 minutes is see the foundation start to crack. I would put this on fairly lightly because the coverage is great but it also seemed to look cakey in all my creases. I just couldn\\'t get it to work.\", \"I have pretty dry skin that drinks up most foundations and leaves my skin looking super matte and dry. This foundation is INCREDIBLE. It leaves such a beautiful healthy finish. It\\'s super light going on, and I can barely feel it. Coverage is great for a dewy foundation. It reminds me of Korean foundations I\\'ve tried because of how soft the finish is—I\\'ve never had an American foundation have such a healthy finish. It\\'s not sticky and dries down beautifully. This is especially important because I live in a desert climate.\\\\n\\\\nIf you have dry skin and you need extra coverage, I can\\'t recommend this enough.\", \"Perfect shade match! I\\'m so happy with this foundation. Goes on smooth, lasts all day, and the shade matched my skin perfectly. I highly recommend and will continue to purchase. Thank you!\", \\'Bounce my beauty blender over a small pea size amount.\\', \"This is such a beautiful foundation! It\\'s dewy and glowy but doesn\\'t emphasize texture. I love this as an everyday style, work foundation. It\\'s great! I hate the packaging bc I squeeze out too much, but it\\'s easy to travel with! Try this you won\\'t be disappointed!\", \"I normally buy Tarte, Nars, IT Cosmetics and Clinique for my foundation. This shade feels like it was made just for me. I have received multiple compliments asking me what I\\'ve done different to make my skin look fresher and illuminated... it\\'s this! There\\'s no sparkle or glitter, just a glowing, healthy vibe that STAYS PUT.\", \\'The shade Fair 1.5 is a perfect match! As a pale lady, I find it difficult to find a light shade with a neutral/warm undertone without being too dark or oxidizing. I like this a lot but because it has a satin finish I find I get really oily about three to four hours into wearing it. Still a great product, though.\\', \"This is my absolute favorite foundation of all time now I will use nothing but this! I love how it makes me skin look and conceals and stays on all day! I don\\'t use a primer at all and it\\'s beautiful on my skin. I always get compliments on my skin when I wear and not to mention how it photographs BEAUTIFUL I look like a glowing goddess. I did not see the problem of oxidizing and the color matched me well. I got marched in store and they did a good job!\", \\'Nice coverage and glow. Oxidized within an hour of application, giving my face an orange tint. It was a nice product, so I may try a lighter shade to see if it improves the look.\\', \"This is my first NYX foundation, and I really wanted to love this, but it\\'s not as good as I hoped. The shade I picked (Beige) was a perfect match, which was great. It has a slightly thin consistency and it applies easily and evenly, best if you use a sponge. The coverage is light-medium, which I\\'m fine with since besides a little redness which I don\\'t mind peeking out a bit, my skin is pretty good and considering I\\'m nearing my 40\\'s, I feel the less products on my face, the better to keep it in good shape LOL. However, that\\'s where the pros end. After a while, I noticed that my pores were super visible around my cheeks and it started getting cakey around my forehead and between my eyes a lot faster than any other foundation I regularly use. I tried it with ELF Poreless Putty Primer and Touch In Sol No Poreblem primer and slightly set it with Pretty Vulgar The Powder Room setting powder, yet I got the same results with all of them. Also, it is not glowy at all, in fact it\\'s borderline matte. I am gonna try mixing it with other tried and true dewy foundations (JOAH Truly Yours is my go-to), and see what happens, but all in all, I am not recommending it. Boo!\", \\'It blended into the skin well, but even after a heavy amount of setting spray and blending the setting spray into the skin, it still came off a little to easily. However, it feels very nice\\\\n on my skin and does give my skin a slight glow.\\', \\'Finish: pretty\\\\nCoverage: medium as listed\\\\nWear time: does not wear long\\\\nBlurring: exaggerates everything \\\\nDo not suggest\\', \\'Just love it! Matches my skin perfectly. Gives me just the right glow!\\', \"This product has a huge shade range, which I love. The coverage is decent, but ANY flaws (acne, dry skin, large pores) get 10x more visible. I\\'ve tried pore primer, but nothing seems to work. I\\'ve also tried moisturizing.\", \\'Liked the product but not the color.\\', \\'it is great buildable coverage, cover my dark spots and red spots\\', \\'I have high end foundations, but lately this has been my go to foundation....leaves my skin looking amazing!\\', \\'I bought this foundation based on a YT review of one of my fav you tubers. Im 43 and i have no wrinkles but skin has became a bit dryer than my usual oil in tzone.\\\\n\\\\nI tried this with elf putty primer and pores are  accentuated. Tried with cover fx pore primer and still can see pores and texture i didnt recognize i had until using this formula. Theres definitely no glow and it gave more of a matte finish. I dont have acne prone skin and i used the shade med olive. I personally dont like this one and will be returning to store. I had high hopes but unfortunately its not for me.\\', \"First off I have combo skin and oily t-zone and I did like this foundation at first, beautiful coverage, finish, nice and glowy but I noticed as the day went on it started looking really greasy and settled and creased into every line I didn\\'t know I had! Also it transfers and never really sets! So disappointed cause it starts looking so nice at first but sadly I will not repurchase.\", \"don\\'t usually use foundation, but this one lasted all day and went on my skin very smoothly, will buy again\", \"The older I get, the less foundation I want to wear but I know I still need coverage since I have redness and old acne scars. I wouldn\\'t consider this foundation full coverage but I expected less and was very surprised! It blends very nicely, and has a glowy natural finish. I will be repurchasing!\", \"This foundation is GORGEOUS. Many formulas are either too drying (making my skin look crinkly or scaly) or they\\'re too oily and don\\'t sit on the skin nicely. This one is so lovely! Great (probably medium ish) coverage, makes my skin look flawless and yes, glowy. I can\\'t speak to how it would work for oily skins, but mine is dehydrated with pores, dry texture patches, and uneven tone and it\\'s wonderful for me!\", \"The foundation would be good for someone who doesn\\'t have scarring or only a little bit. If you fit that group then you\\'ll like it.\", \\'I have color \"nude\" and it\\\\\\'s a perfect match. Not full coverage, more light-medium, but it looks beautiful. Not too glowy, not matte, just a perfect beautiful hydrated skin finish. I will probably re-purchase. Reminds me a lot of L\\\\\\'Oréal\\\\\\'s Lumi foundation and this is cheaper.\\', \\'This is a great foundation at an amazing price! I feel it is more of a skin-like finish than \"glowy\". I have dry, more mature, skin and I use an illuminating primer underneath. It does need smoothed out more on my upper lip and may accentuate my forehead lines a little by the end of day but other than that is looks very matural and smooth with good coverage.\\', \\'literally melted off my face within hours. setting it with powder didnt work. using a setting spray didnt work. primers didnt work. Made me look like a hot greasy mess.\\', \\'Beautiful medium coverage foundation with a smooth satin finish. Very fresh looking foundation. Last all day without fading or breaking apart. (I have dry skin)\\', \"I have normal to dry skin and this looks very nice and natural on me, like a natural radiant finish. It also lasts a good amount of time (like 8+ hours). The only thing I don\\'t like about this, is that it is a very thick foundation and you don\\'t need a lot of this product, and sometimes the foundation can get stuck and clump up in my brush (even when it\\'s freshly cleaned)\", \"I have tried everything.... I mean everything. I have acne and combination skin, so I need coverage but nothing that makes me look caked! This is exactly that! It\\'s a medium to high coverage that\\'s isn\\'t too thick or drying.\", \\'I love #nyxcosmetics  so I saw this in the ad I get in the mail I love the color, it blends perfectly with my skin I just find it very liquidity it comes out super fast and I hate wasting product.\\', \\'so full coverage and non cakey. this competes with high end like ABH luminous foundation\\', \\'This foundation blends so nicely with a brush and I pat over with a sponge to make sure it is even. it lasts 8hrs on me.\\', \"it had been a few years since i had last used any of nyx\\'s complexion products, so i decided to give this one a shot and i\\'m so glad i did! this foundation is dewy and makes my skin look gorgeous. i sheer it out a fair amount and even then i feel like it delivers amazing coverage! it doesn\\'t crease around my nose, either, which tends to be a problem for me. i love this and would totally buy it again!\", \\'so far I love it. perfect match. I have very dry skin so it gave me a glowy look.\\', \"this is a good look for women that prefer the no-make up look and have dry/normal skin. I prefer full coverage and this isn\\'t. But, if I need a quick look i would probably use it. Very lightweight as well.\", \"I LOVE this product! I\\'ve been looking for a new foundation that is not full coverage and not little coverage like a BB cream, and THIS. IS. IT! Beautiful coverage, but not full or over-the-top and not as little to no. Perfect for an everyday look. I used on top of a full coverage concealer to cover pimples or dark circles under my eyes. Best used to brighten and for glowy skin, even after using setting powder. Only negative is it could be an issue for those with oily skin. If you have combination-dry skin and you\\'re looking for a foundation with medium coverage, this is the product for you!\", \\'The same as the NARS foundation. Absolutely love it and the price is even better . Have oily skin and I use the benefit poredessional primer and is amazing.\\', \"I absolutely love this foundation. If you are dry skinned like me - I\\'d highly recommend. I doubt this would be the best choice for someone oily. \\\\n\\\\nI prime with NYX oil primer. I use my beauty blender to apply - adding an extra layer for buildable coverage. Lastly I set with the NYX bare with me pink spray. \\\\n\\\\nThis is the best thing I\\'ve ever tried and my face has never been so healthy!!!\", \"This is my favorite drugstore foundation I\\'ve tried. In fact I\\'d place it in my top 5 foundations period. It feels light and it does have a glowy finish. I\\'d say it\\'s medium coverage and buildable. The price is great and it\\'s easy to travel with. The downside I\\'d say with this is that it\\'s maybe not that long lasting and can transfer. I don\\'t really powder my face with liquid foundation. P.S. I have combo skin leaning towards dry.\", \"I use this with the NYX oil primer (for an extra glow) and this over it and my skin looks so radiant! It gives me a good medium-full coverage, but a little goes a very long way. it does stay a little bit tacky over the skin, if you don\\'t set it though. I have sensitive skin too, and it doesn\\'t break me out. the only thing I don\\'t like, is that the shade range is kind of confusing when selecting your shade. I have fair skin with cool undertones and I\\'m in the shade 1.3 for reference, and it looks very very light in the tube but it matches me well when applied\", \"Totally in love !!  I have never liked using a foundation because I don\\'t like the feeling it gives.  But I must say that I love this foundation.  It\\'s not a foundation for people looking for high coverage, but I think it\\'s buildable.  The shade I chose is perfect, leaves the skin beautiful and is very comfortable. You need this foundation!!!\", \\'I loved it!\\', \"Bought after one of the You Tuber\\'s I follow recommended the foundation. Totally fell in love;\", \\'Great for my winter skin and doesn\\\\\\'t accentuate fine lines. I use a hydrating primer all over and a small amount of a mattifying primer on my nose and chin to get it to stick to my oily T-zone. I\\\\\\'ve used this as a \"tinted moisturizer\" AND as a medium/full coverage look. I recommended a light setting powder if you\\\\\\'re wearing it all day.\\', \\'I love the coverage and the shades . I just hate how oily my skin looks even after applying numerous amount of powder to set it .\\', \"Really nice natural coverage. Doesn\\'t feel heavy on the skin and goes on really smooth\", \\'I tried for the first time and I was really impressed with the color match.  Coverage is medium buildable which I like.  Although I have pretty decent skin for my age less is more.  Wore very well with a primer and setting spray.  I wished I tried it a long time ago.  This will be my go to affordable foundation!\\', \"I\\'m 47 and have to be careful not to use foundation that accentuates the lines and bags under my eyes. This can be tricky though because some light-weight foundations don\\'t provide enough coverage. This does that without making me look like a dried up shrew. I also love the glowy effect.\", \\'I was looking for a medium coverage, easy to apply foundation for days when I want to spend a little extra time on my makeup but without looking too \"done.\" My skin in the winter is dry and this gives me a natural finish.\\\\n\\\\nPros: The color descriptions are very good. I picked \"Porcelain\" by the description and it\\\\\\'s a very good shade match. \\\\n\\\\nCons: It wears in a really odd way on my skin sometimes. The foundation will break apart and become very patchy, almost like I took a cotton ball and blotted away some of the makeup. When it does this the lighter pigments seem to collect around my pores and it looks like little white dots on my face. Over the last three weeks it\\\\\\'s only done this maybe five times and I\\\\\\'m not sure what causes it. I\\\\\\'ve tried this over multiple bases now and that doesn\\\\\\'t seem to make a difference. I\\\\\\'ve found that shaking the bottle and applying with a sponge help.\\\\n\\\\nOverall it\\\\\\'s not bad, but I won\\\\\\'t repurchase when this is empty.\\', \"I have combo skin with a very oily t-zone. This looks so glossy and flawless, and it didn\\'t cling to dry patches or go super shiny throughout the day. Good coverage. \\\\nPlease don\\'t ever stop making this!\", \"This foundation is the perfect color match! It clings to my dry patches and blotches off. It also won\\'t stick to my nose. I will keep trying it to make it work.\", \"I was so impressed by the finish of this foundation; I\\'ve been having a lot of trouble finding a base that sits well as this one. My only complaint is that it slightly breaks me out by the end of the evening, but I like the coverage and finish so much I\\'m going to continue trying to make it work! Anyone else out there experiencing breakouts with this?\", \"I have been on the hunt for a good affordable foundation that isn\\'t too matte, medium converge, not cakey, wears well, doesn\\'t have a scent, cruelty free, and ACTUALLY matches me. I\\'m very fair, usually lightest or second lightest, and cool toned. Most foundations are super yellow for the lightest shade. This one fits all of my requirements! It is dewy and quite emollient so I do set it with powder but I don\\'t mind that.\", \\'Use the makeup brush for liquid..It blends great. Lesson learn next time I by foundation I will watch a territorial first.\\', \\'Best foundation ever if you use a moisturizer or dewy primer. Has buildable coverage to cover just your redness or full glam. Last all day if you set it with a powder but still gives you that glowy look.\\', \\'I WENT IN TO ULTA AND ASKED AN EMPLOYEE TO HELP ME MATCH THE CORRECT COLOR FOR MY COMPLEXION, AND SHE PICKED THE PERFECT SHADE FOR MY SKIN TONE ,I WAS SHOCKED BECAUSE USUALLY WHEN I GET HOME THE SHADE BE OFF WHEN I PICK IT OUT MYSELF. WELL ALL I HAVE TO SAY IS I WISH I REMEMBERED HER NAME BECAUSE SHE WAS AWESOME AND PATIENT WITH ME,ITS HARD TO FIND GREAT CUSTOMER SERVICE LIKE THAT\\', \\'Great very skin like beautiful finish\\', \"I read and watched reviews of people loving this foundation but it did not work for my dry skin. I\\'ve tried over and over to make this work with different oils and primers and it just sat on top of my skin and looked dry and cakey. I wanted to love this but couldn\\'t, just didn\\'t work with my skin.\", \\'If you do not have dry patches on your skin, you may like this.\\', \"I\\'ve gotten many compliments on this foundation. Amazing coverage with a soft dewy finish. I recommend using a foundation brush for this one. My only complaint is the small bottle (nyx needs to make this in larger bottles).\", \\'every day use\\', \\'This product works great with my skin type!!\\', \\'I absolutely love this foundation! It makes my skin look beautiful and covers ALL of my blemishes and dark circles.\\', \\'I was looking for a luminous foundation that was affordable and I found this one! I love it! I only wish the packaging was different, wit would be great if it came in a bottle with a pump instead...the color match was perfect, the glow is perfect, the coverage is flawless and buildable...I definitely will purchase again!\\', \"I saw this reviews by a YouTuber and thought I would give it a try. I\\'ve been striking out with new foundations lately so I didn\\'t have high hopes - but WOW! It matches my skin well and has a beautiful natural/radiant finish. I\\'m so impressed!! It\\'s my new go to everyday foundation.\", \"Love this for light coverage. My skin is on the dry side and this doesn\\'t cling onto dry spots and leaves my skin nice and hydrated. My only complaint is that it doesn\\'t last as long as I would like. I can get 5-6 hours out if it and would love to get twice that.\", \"Didn\\'t know if I would like this at first because of the glow it claims to have. I have oily combo skin in the summer and normal skin in the colder months. This foundation is PERFECT this time of year because it keeps my skin hydrated and radiant but not oily looking. Looks super natural with medium ish coverage.\", \\'I bought this on a whim and I am now hooked. It blends so easily and it looks very natural. Also, it feels very light on the skin, you will forget you are wearing foundation! I highly recommend this for anyone who prefers a light to medium coverage. I have dry skin and this has worked great for me, not sure how it would work for oily skin. It is not glowy but is very natural finish. I would say more satin.\\', \\'Love the coverage and how it glides on!  AND the fact that there are lots of shades to select from.  A winner!!\\', \\'Love it\\', \"Bought this because it\\'s cheap and I needed a nice alternative for short days when I\\'m going to dinner or running errands. I heard good things but I was skeptical. I went into the store to find my shade and it was pretty easy. I have to say this really impressed me. It\\'s light weight and the finish is very natural. I could wear it alone but I wore it with my normal primer, concealer and setting powders. I was afraid it would break up throughout the day but it looks FLAWLESS after 7 hours of wear! I am SHOOK! It does transfer a bit so be careful. Compared to my Fenty foundation nothing else works this well especially for this price! Try it! You won\\'t be disappointed!\", \"Love this foundation. I wore this foundation today for 9 hours, and it held up well on my oily skin. Did not blot until the end of the day just to see what it would look like and holy cow, I\\'m just blown away. I don\\'t know if I like this foundation or the can\\'t stop won\\'t stop foundation better but between those two, I\\'m very pleased! If there\\'s another sale soon I\\'m definitely stocking up\", \"I live in Florida and have oily skin.  I was looking for a full coverage foundation that does not settle in lines and pores, has a smooth matte finish, and looks natural.  This fit the bill for a bargain.  I feel like this competes with some of the more expensive foundations I have bought.  I was worried it would be too dewy for my oily skin, but I feel that it keeps the shine down in the Florida heat.  I\\'ve used it for a week and have had no problem with breakouts.\", \\'Keep your skin hydrated and dewy. Good medium coverage.  Use sponge to get the flawless finish and use a baking powder for an air brush look\\', \"Great product in comparing to high end foundations last just as long, (to me that is) match perfect with my skin complexion ,didn\\'t crease or cause creasing I would purchase again\", \\'I can\\\\\\'t believe I\\\\\\'m writing a 5 star review on a NYX foundation, but here we are. I have combination skin so I typically lean towards products that claim to have a more mattifying affect. I decided to give this a try though and I am SO glad I did. This is not so much \"glowy\" as just a truly NATURAL FINISH foundation! I am shocked at how much I love this. It doesn\\\\\\'t settle into my fine lines and doesn\\\\\\'t have any breakup in my problem areas - truly wears beautifully. I have already repurchased so I don\\\\\\'t run out!\\', \\'I love this foundation! Looks great and perfect shade: gives great coverage!\\', \\'I love this foundation! Looks great and perfect shade: gives great coverage!\\', \"Went in beautifully with great coverage and natural finish.  It wasn\\'t overly dewy so I didn\\'t have to set other than my undereye and T zone.  Wore well.  I Will definitely repurchase.  Highly recommend especially if you have dry skin\", \"This foundation is supposed to be radiant or glowy which it isn\\'t. I have dry patches which it clings to. I settled in the pores. It transfers really bad so I have to set it which takes away any kind of natural skin look it gives. It does blend it nicely and can be made up to a medium coverage. I think this would work great for people with normal skin types.\", \"Okay so I was a bit hesitant to try this because I have oily skin and the Can\\'t Stop Won\\'t Stop foundation is my holy grail at the moment but I tried this one out and this holds up very well on my skin. This foundation will definitely be in my winter routine\", \"I love this foundation. It\\'s light and a little goes a long way. I use it almost everyday and it hasn\\'t clogged pores or given me and blemishes. I dab small amount on my eyelid and eye makes wears longer. It has a slight glow which I love. If I put it on with nothing else my family comments that I look well rested.\", \\'Fell for the gram photos and bought. Not so much a glow. And the color tone transitions/shades hard to match\\', \\'I\\\\\\'m not a \"makeup maven\" or fancy myself to be a \"makeup blogger\" or \"expert\".  I\\\\\\'m an everyday, professional woman who wants to look good.\\\\n\\\\nI tend to use a skin tint/light to medium coverage foundation/concealer, powder, brow groomer, eyeliner/mascara, a lippie product and some blush -- that\\\\\\'s it.  I MAY use a bit of highlighter or eye shadow for special occasions. \\\\n\\\\nI\\\\\\'m not one to use 50,000 products for ONE look.  Not one for the \"casket ready\" brigade.\\', \"I\\'ve only used this a couple of times but I\\'m really liking it so far. It\\'s a thin formula but still has good coverage, doesn\\'t look cakey on my dry skin, and it doesn\\'t look shimmery at all like some other dewy foundations.\", \"They want to be diverse but the only light shade they have is PINK? and the formula is so cheap its thin and doesn\\'t cover\", \\'i really really like this foundation, definitely getting more of it. the color i got was a little darker than my complexion but it blends really nice.\\', \\'Bought this because of the price but was pleasantly surprised but the coverage and how lightweight it feels.\\', \\'Every day foundation\\', \\'Love NYX products, but was disappointed in this. Had to return it once because of the color, then the one I finally bought was still not the right color. It is very thin and runny and product fades quickly from skin.\\', \"I can\\'t really review it accurately since I bought it online and it turned out too dark. Overall though, it\\'s very light coverage but still has pigment. Good if u want something lightweight\", \"I got a tan and so I need a darker foundation without spending lots of money. It\\'s perfect and for the money such a steal.\", \"I\\'ve been on the hunt for a good dewy/glowy foundation. I have so many liquid highlighters/drops from all kinds of brands that I\\'ve tried mixing with foundations or applying as a base and no matter what primer I use it always just slides off my face. This foundation is luminous, has amazing coverage, and blends out so easily!! It did start to separate around my mouth after about 11 hours but I don\\'t personally need all day coverage so that wasn\\'t a huge problem for me. This definitely gets a 10/10 in my book!\", \\'Nice foundation\\', \\'Super lightweight with great coverage and it matches my color perfectly. no heavy pore clogging stuff.\\', \"For dry skin, this is the hands-down absolute best foundation I\\'ve found to date. Decent medium coverage, hydrating, glowy, doesn\\'t cling to dry patches - all the boxes we need checked off.\", \"It\\'s a perfect foundation makes my skin feel smooth and has good coverage\", \\'I enjoy this product! Light weight, great match on my skin and the product is so affordable.\\', \\'Totally was shocked at the wear and finish of this foundation. It works beautiful with my Matte primers but I was able to still see the natural radiance from the foundation\\', \\'Best low cost /natural/radiant foundation. Is not very long wearing but is a good foundation for a few hours wear\\', \"I was unsure if a foundation that was less than $10 could cover this 46 year old face in a way that wasn\\'t cakey or uncomfortable.... but this DOES! I LOVE it. I want to buy like 10 bottles so I never run out. < 3\", \"Gave it about five chances and couldn\\'t make it work for me. I used it with no primer and the original Smashbox primer. Didn\\'t matter if I applied with a brush or sponge, it would still get gross throughout the day. After only four hours the foundation was creasing terribly and made me look so oily, and I have extremely dry skin. It\\'s only of the worst foundations I\\'ve ever tried. The shade range was okay I guess.\", \\'okay so i love this, it doesnt make my dry skin worse or exacerbate any dry areas. however i dont see any glow or dewyness. i do feel like my skin feels dewy though however its set in place. so i guess it feels moisturized but its not oily and sliding around. this is great for the price point. however i got the shade \"light\" but it has more of a yellow orange finish which is not great.\\\\nworkable though. just know shade range is slightly off i think.\\', \\'This is by far one of the best foundations I have ever used. It looks natural on the skin and is buildable. I will most likely continue to buy this product.\\', \"The best mini foundation I\\'ve tried. It tops the high end make ups.\", \\'For a person with oily skin this foundation felt heavy in my skin and almost immediately creased in my smile like. The coverage is medium and the color does oxidize just a bit.\\', \\'Beautiful product with the right amount of coverage and a beautiful finish. A much needed dupe for Becca Aqua Luminous for 1/4 of the price!\\', \\'I received the NYX  Born To Glow Natural Radiant Foundation complimentary for review purposes. The foundation is very hydrating which is perfect for people who have dry skin. It gives a dewy and glowy finish which it claims to do so.  The foundation looks natural and it can be buildable. I really enjoyed this product and will be purchasing it in the future.\\', \\'The foundation is very hydrating which is perfect for people who have dry skin. It gives a dewy and glowy finish which it claimed to do so.  The foundation looks natural and it can be buildable. I really enjoyed this product and will be purchasing it in the future.\\', \"I went to ulta just to find a more natural looking foundation and I did!! This foundation gives you a natural and radiant look!!  It\\'s light weight and looks great!! If you want a foundation that will bring out your natural beauty this is it!!\", \\'This foundation offers good coverage and lasted almost all day. I was worried when I opened it because it was running out of the package before I had it fully flipped over. I received this product free in exchange for an honest review.\\', \\'This foundation offers good coverage and lasted almost all day. I was worried when I opened it because it was running out of the package before I had it fully flipped over. I received this product free in exchange for an honest review.\\', \\'im sooo inlove with this foundation! i have an oily with mild textured skin and was always afraid of using \"radiant\" foundations because i am afraid it will exaggerate the look of my pores. amazingly this one did not. it looked like healthy skin. and i have been getting so many compliments everytime i use this foundation. i was initially into the l\\\\\\'oreal fresh ones but that one really shows my pores. this one doesn\\\\\\'t!!! i am so happy with this foundation. and it would last me long enough throughout my working hours. i will still get a bit of oil through and will surely have a bit transfer when i try to get the oil out but i still love the finish of it. \\\\n\\\\nmaybe i just need to find a good primer to match with it. i am currently using ELF putty primer and a bit of nyx pore minimizer primer on t-zone. \\\\n\\\\nbut this foundation i still keep reaching! i hope they will keep this line.\\', \\'This foundation is ok, what I do like is the formula is thin and medium coverage, but buildable so it gives you a more natural look. The color I was sent was orange for me tho, they need to lay off the orange and add more yellow to their shade range. Overall, cool foundation for the price. Good for summer.. I was given this for reviewing purposes\\', \\'this was absolutely perfect. i had my perfect shade. it matched and was absolutely lovely. until a half hour later when it oxidized and i looked like a cheeto puff. i do NOT recommend.\\', \"This product was best applied with a damp sponge however I used a dry sponge one morning in a hurry and wasn\\'t mad about it. It blends great, applies nice and has a great satin glow finish.\", \"I received this NYX Born to Glow Foundation to try this month! So exciting! I got the shade light. Which is a bit too light for me in the summer but nothing a little bronzer or loose powder didn\\'t fix. I was honestly suprised by how light it was with still having decent medium coverage. The consistency of it is very nice! I also liked how natural it looked! I was expecting it to be really shiny because of the name but it looks very natural with just a hint of dewiness which is absolutely perfect as it doesn\\'t look all dried out and cakey. They also have such an impressive range of color choices that it makes it super easy for pretty much anyone to find a match. And its affordable enough for people like me who change a few shades between seasons to be able to buy it in multiple shades without breaking the bank! I will definetly be purchasing it!\\\\xa0 NYX  Born To Glow! Naturally Radiant Foundation  NYX  Born To Glow! Naturally Radiant Foundation  NYX  Born To Glow! Naturally Radiant Foundation\", \"There are a lot of things to love about this foundation. It\\'s lightweight, but buildable medium coverage, and makes your skin look like it\\'s naturally perfect. It\\'s a thinner formula, and a little goes a long way, so it\\'s a great value! Something to consider, I have combination skin, and it worked really well on oily parts - didn\\'t look greasy at all, which is normally a problem with for oily skin and radiant foundations! On dry parts, though, it looked flaky even after exfoliating and moisturizing really well before application. I would say to try it out no matter your skin type, but you might not love it if your skin is really dry. I use it on days when my skin isn\\'t so dry and I LOVE it. It doesn\\'t fade weirdly throughout the day, even in hot weather. I received this product free to review, but I would definitely purchase it when this bottle runs out!!\", \"I usually use Lancôme Teint de Idole as my daily foundation and was excited to try this. It\\'s a much cheaper alternative with a similar feel and coverage. I found this was best applied with a damp beauty blender. It starts as light coverage but is buildable up to a medium. It definitely needs a setting powder so it doesn\\'t transfer. It lasted about 4-5 hours before it starts to break down without primer. Overall, for the price I\\'m happy with this foundation and will probably purchase again. I received a complementary sample through in exchange for this review.\", \"It blends well but the collection doesn\\'t cater to every skin tone. My shade was way too dark and if I used the next lighter color it would have been too light. I received this product complimentary to review.\", \\'Sadly this foundation was too light for me but I wont ding it based on that. For a foundation that says \"Born to Glow\" I expected a little more radiance but it was basically a matte foundation so I was super bummed. It was just okay, the coverage was average and the finish was too matte for what I like. I got this  in the Nyx Born to Glow Vox Box. I received this product complimentary for review purposes.\\', \\'I applied this product using my fingers as well as brushes. This product left my face looking ashy.  The packaging causes many spills and the amount of Product could not be controlled. I received this product complimentary in exchange for my review.\\', \"Let\\'s get this out the way: this is a truly radiant/non matte foundation. I love the finish, but if you are oily... you will look greasy. That being said, I love this foundation! It will be especially great in the winter. I once thought I had oily skin, but I\\'ve realized I am normal to dry. Occasionally, based on weather, stress etc I am lightly oily on my nose. I\\'ve learned that if you use a mattifying primer, color matching setting powder on your more oily areas, apply the foundation, and then a matte setting spray... the finish is perfection. I personally don\\'t mind the glow and love the finish of the foundation though. This foundation blends beautifully and feels great on my skin. If they came up with a matte finish for this foundation line, I\\'d be happy to try it.\", \\'This foundation is so nice, the product is very lightweight and easy to apply. I say its medium coverage, creates a natural skinlike base. Unfortunately the shade nude did not fit my skintone, it has a more olive undertone made me look gray. Does take a moment to set, so I would definitely use a powder to get rid of that sticky feeling! Overall its exactly as it says \"naturally radiant\".\\', \\'Use after primer and a good setting spray. Be prepared to have to touch up through the day. I received this product for free for testing purposes.\\', \"I absolutely adored this foundation. When I first tried it I was kinda skeptical tbh, but it went on creamy and it blended perfectly. if I needed to build it more in my t-zone I could. When I was done with all my makeup at the end I had this natural glowy look. It didn\\'t look caked on like most foundations do\", \\'What I liked about this foundation was how lightweight it was on my skin. Also since I prefer medium coverage it was perfect for me. It was also very easy to blend on the skin. However, it was very transferable and it ended up transferring to my clothes. Overall, it was good foundation to wear and I personally love the packaging. I would recommend this to someone who like that radiant finish. I received this product complimentary for review purposes.\\', \"I thought this product was good! It\\'s not the best glow-y foundation though. I did not like the squeeze tube packaging. A pump would have been better for this product. The foundation itself was buildable, which is great, but the coverage was not the best. The finish of the foundation was definetly glowy and gorgeous. I would recommend this to friends, but it would not be my first recommendation. Bottom line - I would wear this foundation again, but it would never be my go-to. I received this product complimentary for review purposes.\", \"I thought this product was good! It\\'s not the best glow-y foundation though. I did not like the squeeze tube packaging. A pump would have been better for this product. The foundation itself was buildable, which is great, but the coverage was not the best. Bottom line - I would wear this foundation again, but it would never be my go-to. I received this product complimentary for review purposes.\", \"I have a love/hate relationship with foundation but I love this! It\\'s medium to full coverage and lightweight. Honestly feels and looks like your own skin. The glow that it gives is amazing! Ever after setting with powder you can see the glow.\\\\n\\\\nI received this product free for review however I will definitely be buying more.\", \"I wanted to love this foundation so much. I have naturally dry skin and am always on the look for an inexpensive hydrating foundation. I did receive this complimentary for testing purposes, but it doesn\\'t negate how I feel about this product. I have the shade light and in the bottle and after being squeezed out of the bottle it looks like it\\'d be my perfect match. Sadly this product like many other foundations oxidizes. I went from what could have been my perfect shade match and everyday foundation to orangish skin and a foundation that just didn\\'t work out. \\\\nThis blends like a dream and the first 10 minutes it looks amazing on the skin. However, even if the oxidization wasn\\'t as bad as it was I also had some pretty bad separation within a few hours of application. The worst part was they weren\\'t even all in my normal places of separation. It separated around my nostrils and my chin which is normal. However, it separated on my cheeks, nose and sides of my forehead which is not normal.\\\\nSadly I can\\'t foresee myself purchasing this in the future because even though it\\'s a great price point it just doesn\\'t work well enough for me to put my money on it.\", \"I\\'ve searched for years to find a foundation with a formula as beautiful as this one. The coverage is medium off the bat but can easily be built up to cover any minor scarring you might want to hide. The formula is extremely light weight and hydrating. It almost feels like applying water to your face. I wear the color nude and it matches my light olive skin perfectly. This foundation has quickly become my holy grail no matter the occasion.\", \"I really enjoy this foundation. It\\'s got a very natural radiance to it and blends out well with a brush. I am able to build the coverage up to cover any blemishes or acne. I wish it cooperated better with my beauty blender.\", \\'Ok so in the beginning this seemed pretty nice. It went on smooth, had a dewy finish, is affordable and is good coverage. Now with that being said things turned for the worse unfortunately! You have to be careful because this product can easily start to look cakey, creased a lot through out the day and comes in an ugly tube! I personally prefer  a pump. All of that being said this is like an emergency foundation for me in case I run out all of a sudden but it definitely will not be my go to! \\\\n#complimentary #voxbox\\', \\'I have combo skin and I LOVE this foundation. I\\\\\\'ve worn it for 12 hours with no issues. Also if I lightly set this with a powder it still gives off a radiant glow (that doesn\\\\\\'t just look like oil!). It\\\\\\'s beautiful and the shade fair is an amazing match for me which is hard to find. My only critique is I wish it had a pump just because it\\\\\\'s sometimes difficult to control how much comes out of the bottle. But if you love a \"your skin but better\" foundation it\\\\\\'s beautiful and I highly recommend it. It\\\\\\'s definitely become my go-to every day foundation.\\', \"I received this for free in exchange for review. Honestly, I didn\\'t love it. The color was way off for me personally although that\\'s not the products fault. It was quite oily and seemed to take a while to rub in. The coverage was just so-so, the wearability left a lot to be desired. Would this do in a pinch? Yes. Would I switch from my current foundation to this? Hard no.\", \"NYX born to glow in light porcelain is a perfect shade and foundation for me. One major thing I loved about it was I didn\\'t need to add a moisturizer before the foundation and given I have a 2 month old baby now that extra minute I gained means a lot to me...lol the foundation went on smooth and was great coverage and blended quickly, again fast is a major plus now. Only thing I disliked was the tube. I don\\'t know why these companies put foundation in a tube. Put it in a glass or plastic container with a pump. I have better control of how much I use and I don\\'t waste nearly as much. I received this product for free to review\", \"The color matched pretty well. This foundation has a dewy finish so it wasn\\'t drying on my skin. This formula doesn\\'t last long. Throughout the day it started to crease and breakdown. It looks great for the first couple of hours. So if you\\'re doing a photo shoot or only planning on wearing it for a couple hours it is great! If you\\'re on a budget this foundation will work but there are longer lasting foundations out there.\", \\'I loved this foundation, it had a lot of coverage without looking cakey, it appears very natural and glowey.\\', \\'The NYX Born to Glow Naturally Radiant Foundation is AMAZING! I used it on my mom and she was blown away. She dislikes wearing foundation because of  NYX  Born To Glow! Naturally Radiant Foundation how it sits on her skin, but she and I were both impressed my the coverage and application. definitely buying this in my shade! #complimentarygift #gotitfree\\', \\'It is very lightweight, yet provides about medium coverage and could possibly be layered more for a bit more coverage. It leaves behind a dewy finish and feels very hydrating! It also comes with a pretty good amount inside the bottle. A little does go a long way!\\', \\'I received this complimentary. I love everything about it, except I can feel it on my face, unlike other makeup brands that blend into your skin.\\', \\'I enjoy that I can build up this foundation in layers. One layers for light coverage and added layers for a fuller coverage and a more polished look.\\', \\'I used this product for a party and it looked good in all my photos.\\', \"I really like this foundation. It doesn\\'t feel heavy on my combination skin and didn\\'t break me out. It was easy to apply and has build able medium coverage. It is long wearing and it didn\\'t look cakey after wearing all day. I received this foundation complimentary for reviewing purposes but this does not influence my opinion. For the price you can\\'t go wrong. I would recommend to anyone looking for a good inexpensive foundation.\", \"I received this product for free to review. With that being said I have purchased Nyx\\'s total control foundation in the past and it has been one of my favorite low/mid priced foundations. I think these foundations are very similar but between the two I think I would say this new born to glow formula is a big step up. Both foundations are pretty liquidy in texture which doesn\\'t really bother me but it might not bother some. This foundation has a slightly quicker dry time than the other. I applied this foundation with both a brush and a sponge and found the sponge gave a much smoother look. The finish is definitely dewy but it doesn\\'t feel heavy or oily. It does cling somewhat to imperfections in my skin (dry patches & blemishes) but it definitely doesn\\'t look as bad as many other similarly priced foundations in that respect. I would say this is buildable but I found a little went a long way with this foundation and it has more initial coverage than their total control foundation. I received this product complimentary for review purposes.\", \"I received this product for free to review. With that being said I have purchased Nyx\\'s total control foundation in the past and it has been one of my favorite low/mid priced foundations. I think these foundations are very similar but between the two I think I would say this new born to glow formula is a big step up. Both foundations are pretty liquidy in texture which doesn\\'t really bother me but it might not bother some. This foundation has a slightly quicker dry time than the other. I applied this foundation with both a brush and a sponge and found the sponge gave a much smoother look. The finish is definitely dewy but it doesn\\'t feel heavy or oily. It does cling somewhat to imperfections in my skin (dry patches & blemishes) but it definitely doesn\\'t look as bad as many other similarly priced foundations in that respect. I would say this is buildable but I found a little went a long way with this foundation and it has more initial coverage than their total control foundation. I received this product complimentary for review purposes.\", \\'This is a nice foundation with what I consider medium coverage. It wasn\\\\\\'t as dewy as I thought it would be. It reminds me of the finish of the it cosmetics cc cream but it\\\\\\'s thinner in consistency. I like to apply this with my fingers. I find that it blends easily and \"dries\" down so that it isn\\\\\\'t as tacky as you would think a dewy foundation is. I received this product complimentary for review purposes.\\', \"I was surprised by how much I liked this because other NYX foundations I\\'ve tried were too thick and cakes for me. This does t go on super glory but becomes more radiant as the day goes on. It seems to keep my skin looking blurred as it wears away throughout the day... so it still looks nice. I think it\\'s a great affordable option for people with dry skin who want a medium coverage. \\\\n\\\\nI received this product complimentary for review purposes.\", \"I\\'ll start by saying I like the packaging it comes in. Very easy to squeeze it out to get just the right amount, instead of pouring and getting too much. Plus it\\'d be easy to travel with. Upon applying to the skin I noticed it was very easy to blend in. Very creamy and gives a nice medium to full coverage. My skin looked slightly dewy or glowy without looking greasy/shiny. Perfect for those like me with dry skin. Sometimes if I\\'m having a bad skin day it does tend to accentuate some texture, but most the time it looks great. Overall I like and will continue to use it. I received this product complimentary for review purposes.\", \"I love this product! I got introduced to it by this app and once I got it, I started using it almost every single day ! It\\'s coverage is full but it\\'s not so cakey on the face which I love. It leaves your face looking more radiant after you put it on and I overall recommend it\", \\'Ntx is one of my favorite brands. Their products are always very high quality and affordable. The foundation was the perfect shade for me and it was easy to build to get a more full coverage look. I received this product complimentary for review purposes.\\', \"I don\\'t feel that this lived up to any of the claims\", \\'I do not like the way this applies to my skin. It was Sri and cakey at the same time. Very cakey under my eyes and dry on my cheeks. \\\\n\\\\nI WAS NOT COMPENSATED FOR THIS POST; HOWEVER, I AM CREATING THIS POST AS PART OF A CONTEST\\\\n\\\\nI recieved this product as a free sample\"\\', \\'I love the coverage and blend. It is not heavy but instead light and leaves your skin feeling open and not like make up is caked on.\\', \"I liked the packaging, I think it looked cute and sleek fora drug store brand. This product is good for dry skin or combination, very light weight and easy to apply. Sometimes I like to add this to another foundation to give me a beautiful glow or if I want to give myself a natural glow. It\\'s a great product and I think it\\'s worth trying out. I did receive this product for free.\", \\'Unfortunately, this broke me out. The coverage was nice. I loved the finish. It was affordable. But the ingredients are pretty questionable. Talc, for one. Denatured alcohol - which is very damaging to your skin and will actually age you - is another.\\', \"Love that it\\'s so convenient to buy at stores not just online. Very affordable. Build able coverage, not cakey. Doesn\\'t have a terrible smell either like some foundations I received this product complimentary for review purposes.\", \"Love that it\\'s so convenient to buy at stores not just online. Very affordable. Build able coverage, not cakey.\", \"This foundation was great for my dry skin! It didn\\'t get too dry or cakey at the end of the day which is a rarity, especially within the hot Texas summer! The coverage was nice, it wasn\\'t full coverage but i got it up to medium which is my preference. I definitely recommend it\\\\n\\\\n*****I got this for free to review *****\", \"This product adds such an amazing glow that lasts all day. The coverage is incredible. I\\'m so thankful I was able to receive this product for free for testing purposes. This will be a product I add into my daily routine!!\", \"Unfortunately was sent a color that is deeper than my skin tone so was not able to test on my face. But, I did test it on the back of my hand and I will say that it is very easy to blend! Also that it has nice light to medium coverage so if you\\'re looking for something more natural then this is it! its also buildable so i\\'m sure you can get a full coverage look. As for the glow aspect, it\\'s very dewy but not to the point where you look greasy. It\\'s natural and it stays put! ♡ I received this product complimentary for review purposes.\", \\'Great for long wesr\\', \"I\\'m going to start by saying I LOVE the range of shades you can get with this NYX foundation. When I used it for the first time, it didn\\'t feel heavy or cakey in any way. It blended so easily and had just the right amount of coverage. It is definitely radiant and glowy as advertised, yet not so much as to where it would make your skin look oily. It gives you a natural looking glow with good coverage overall. I would highly recommend this to anyone looking for a great foundation that won\\'t let you down or break the bank. \\\\nI received this product complimentary from Influensterr for testing purposes.\", \"This has honestly become one of my favorite every day foundations. It\\'s a buildable foundation which I really like. It\\'s also very light weight so it doesn\\'t feel like I\\'m wearing much product. I normally use cushion foundations as an every day foundation but this is so good that I stopped using cushion foundations. The only con I have is the smell but I\\'ve had foundations that smell like paint so it\\'s not such a big deal. So happy I was able to test out this foundation. I received this product complimentary for review purposes.\", \"This is definitely glowy! Sort of hard to blend out, I used a beauty blender and kept getting patches. The shade I got is also super light but nothing bronzer couldn\\'t fix! I won\\'t use as much next time for a more sheer coverage to see how I like that! I may have to get another shade. Stayed very tacky so I had to set it which took away from the glow. I also picked a 90 degree day to wear it so I will certainly be trying it again! I was surprised how well it wore thru the day, sweating and all! I received this product complimentary for review purposes.\", \"I was excited to learn I was receiving this product complimentary, the color match was perfect and I tried it out for a little over a week; and noticed that this foundation, is not the one for my skin. I can get oily so I also made sure to apply primer as well as setting powder but along with the summer heat this foundation did not cut it for even a few hours. It would start separating leaving some spots on my face and it\\'s a creamy buildable foundation but it won\\'t be there for you in the long haul. You will need to touch up I received this product complimentary for review purposes.\", \\'I received this NYX Born to Glow foundation in Warm Vanilla for free for review. The packaging is cute and shows the color of the foundation well. Upon opening, I found that the formula was very fluid. I applied one coat with a beauty blender to ensure even coverage. Once applied, I found the formula somewhat greasy and it moved on my skin. It settled in the creases on my forehead and the color appeared chalky- potentially just an error in color choice for my skin. It did prove to be buildable but the consistency was not desirable. Over all, I would not purchase or use again. I received this product complimentary for review purposes.\\', \"If you want a full coverage this won\\'t be it. But if you want something light for summer or on a day you don\\'t want to do full makeup this is great! It smooths out really well and doesn\\'t leave your face too shinny\", \"First off, the shade range on this line is really great! A little goes a long way with this product in terms of giving me a radiant glow without being too dewy. Definitely light to medium in the coverage area, but I like that this foundation is perfect for those everyday summer looks where you don\\'t need full coverage. If I use a little too much foundation it can look cakey up close, so I have to say that I haven\\'t quite found the perfect primer for this foundation yet (combo skin). I\\'m going to keep trying because I do like the way this gives me a nice radiant glow.\", \"First off I was surprised about how much coverage this foundation has. It\\'s fairly liquidy and doesn\\'t feel heavy on the face at all. This shade was slightly more yellow tone that I expected but with bronzer etc it works just fine. Overall it\\'s long lasting and lasts all day. I would definitely buy this again. Thankfully I received this for testing purposes  but now I love a product I probably wouldn\\'t have given a chance.\", \\'I think this foundation is pretty nice especially for the price. It has a nice coverage that is buildable without being too heavy. I was very pleasantly surprised when it matched my skin tone as a lot of drugstore foundations are too dark or too yellow. Overall a very nice glowing drugstore foundation. I received this product complimentary for review purposes.\\', \\'I think this foundation is pretty nice especially for the price. It has a nice coverage that is buildable without being too heavy. I was very pleasantly surprised when it matched my skin tone as a lot of drugstore foundations are too dark or too yellow. Overall a very nice glowing drugstore foundation. I received this product complimentary for review purposes.\\', \"I enjoyed testing this product! It was a pleasant surprise. It goes on like a liquid, and is easy to apply. The first time I used it, I squirted too much out. You really do not need to use much to get good coverage. The one thing I didn\\'t like was how it left a powdery look on some places. This was very easy to fix, by a small amount of blending. Once I was finished applying, I couldn\\'t feel it on. Overall, for the price, this is a good value. I received this product complimentary for review purposes.\", \\'This foundation is super thin and liquidy. The coverage is nice and buildable. I would say medium coverage. Definitely for someone with skin on the dryer side. I was surprised that this matched my skin tone perfectly. It was really easy to blend out and sits nice on the skin. I received this product complimentary for review purposes.\\', \\'I used this product almost everyday. It sit on my skin perfectly and was great at hiding imperfections in my skin. I loved the glowiness it added to my complexion  and I could wear it all the time without causing breakouts. It didnt sit in my creases and made my face look so smooth! The packaging was great to control how much comes out and to see how much is left. It is the perfect medium coverage foundation.\\', \\'This is great with a brush! Or for a more buildable and flawless look, use a beauty sponge to apply the foundation! Recieved this complimentary for testing and review purposes!\\', \"At first I really liked this but after a little while my foundation started feeling oily. It was the correct color but overall I just didn\\'t really like the oily feeling! But I do like it I probably will just have to use a different primer beforehand! I received this product complimentary for review purposes.\", \"** I received this product free/complimentary for testing purposes ** with that being said, I absolutely love this foundation! I\\'m always looking for glowy foundations since I have fairly dry skin and love to look dewy. I love the fact that it has the jojoba oil and vitamin e in it as well, so that it\\'s hydrating while still giving nice coverage! The only reason I gave it four stars was because of the packaging. I love the squeeze tube, however, I feel that this foundation is extremely liquidy and hard to control how much you squeeze out when you go to use it.\", \"This product was very nice medium coverage and light weight that felt really nice on the skin. The color match wasn\\'t perfect for me. It was very warm for the neutral tan shade.\", \"I really wanted to like this foundation, it just wasn\\'t working amazing for me.the color was a little too light for me and I wasn\\'t loving the coverage. The first day I tried it without primer, to see how it performed without and to see what kind of primer would be best. It sank right into my pores. I tried it with a brush (my go to method for more water foundations) and it was too thick in the brush. It still sank into pores with my shape tape primer. Using my elf mineral infused primer and wet and wild primer water worked best when using a sponge. Because the color was light for me, I needed to apply bronzer/contour to my face to even it out. It\\'s more than I like to wear in the summer. I am going to try it again in the winter to see if I like it then. It\\'s not a bad foundation and I may like it better when it matches. I just like what I currently use more. \\\\n\\\\nI have combo skin, and larger pores on/around my nose (where it sunk in). This was sent me this for free for an honest review.\", \"This foundation has become one of my favorite everyday foundations ! It\\'s last a really long time before it start to break up. I have dry to oily skin I\\'m dry all around and in my t-zone very oily and it looks amazing, I do get a little shiny but not so much where its unwearable. My favorite thing about this is that 1 it\\'s in a Squeezy tube and 2 a little goes a long way it\\'s light to medium coverage it\\'s buildable doesn\\'t cake up or anything so if you want you can go full coverage but might take a few layer. Overall I give it a 10/10 will be purchasing once I run out. I\\'ve also recommended this to a friend who loves it and she has very dry skin and she loves it.\", \"I love this foundation!  Nyx really knocked it out of the park with this foundation!  My skin looks amazing and feels amazing with this foundation on. It\\'s feet but not in the sweaty or greasy way!  It\\'s a very healthy glow. The shade I got was a little too light so I\\'ve been using it as concealer until the right shade comes in that I ordered. I\\'m really loving it. It\\'s not creasing and it\\'s making my skin look sooo good!  I recommend this foundation for sure!  Nyx has really stepped up the game for low cost foundation. I received this product complimentary for review purposes.\", \\'I received this product to try but unfortunately it was the wrong shade but I was able to try it in my right shade and it looks really nice on the skin with the radiant glow and application is easy with the squeeze tube. I received this product complimentary for review purposes.\\', \"I received the NYX born to glow foundation complimentary to review for NYX and [product:influenster]! This product can be a little tricky to work with at first! You have to have a good base primer underneath to keep it from slipping around,also I found I had to set my whole face with powder to keep it from moving! The shade I received is not my summer shade it\\'s definitely my winter shade as it\\'s very light! This shade has good neutral undertones not to yellow not to pink so it would work for a lot of people! It is very smooth once applied and last at least 8hrs on me! Overall I\\'m very happy with the price point and application of the product, and would repurchase in the future![product:nyx-born-to-glow-naturally-radiant-foundation] I received this product complimentary for review purposes.\", \"I was super excited to receive this product, it was actually really amazing! It\\'s very smooth when applied on the skin and I would apply a light/thin layer of it to my face after cleansing and moisturizing. The great thing is that it didn\\'t look cakey or dry out my skin. This foundation leaves your face with a healthy glow and a decent amount of coverage. I received this product complimentary for review purposes.\", \"I was super excited to receive this product, it was actually really amazing! It\\'s very smooth when applied on the skin and I would apply a light/thin layer of it to my face after cleansing and moisturizing. The great thing is that it didn\\'t look cakey or dry out my skin. This foundation leaves your face with a healthy glow and a decent amount of coverage. I received this product complimentary for review purposes.\", \"I was super excited to receive this product, it was actually really amazing! It\\'s very smooth when applied on the skin and I would apply a light/thin layer of it to my face after cleansing and moisturizing. The great thing is that it didn\\'t look cakey or dry out my skin. This foundation leaves your face with a healthy glow and a decent amount of coverage and color correction. I received this product complimentary for review purposes.\", \"It\\'s a great product and goes on smooth. Has light coverage so if you are wanting heavier coverage, I recommend layering it up. It does give you a glowing complexion which is nice. I would recommend this product and would buy. I received this product complimentary for review purposes.\", \"I am loving this foundation. It stays on all day and looks airbrushed. It makes you look like you\\'re glowing all while looking like you don\\'t have makeup on!\", \\'Got this product free for review purposes. \\\\n#nyxvoxbox #influenster #gotitfree \\\\nThis is a very lightweight light to medium coverage foundation. I totally loved the satin finish. Easy application with a beauty blender which I loved because I do not care for using a brush. I did set this makeup with the ELF dewy setting spray after my typical makeup routine. Very lightweight feeling which is nice with this summer heat. Makeup did hold up well throughout the day. The only downside is that when I tried to build coverage it seemed cakey and cracked after a few hours of wear. So if you are looking for a buildable fuller coverage this is not it. I like a lighter coverage and this totally works for me. I received this product complimentary for review purposes.\\', \"I liked it but I\\'m used to wearing more of a bb cream so it was too much for me.\", \\'This product has an amazing application and looks so light and skin like and has medium to full coverage.\\', \"I\\'ve been using this for a good few weeks now. I\\'ve used it by itself and also mixed in with a moisturizer to sheer it out. This is very pigmented for being such a dewy product. Gives a solid medium buildable coverage.\\\\nIt doesn\\'t feel heavy on the skin and truly gives it a gorgeous healthy looking glow. It does settle a little bit into my fine lines and also tends to oxidize so i like to set it with a powder.\\\\nOne big negative for me is that it contains dimethicone which my skin doesn\\'t tolerate so it broke me out. If your skin works with that and you have dry skin then definitely check it out. Performance wise, this is one of the better drugstore foundations I have tried.\", \"I really liked this foundation it has a nice texture and not too dewy. This doesn\\'t cling to any dry patches. I also like mixing this with other foundations it has worked well with all of my other face products.\", \\'Awesome packaging and product. I would recommend not buying online. I received mine complimentary.\\', \\'This foundation is a godsend for me - the color is very similar to the Alabaster Total Control drops, but those were too matte for my dry skin.  With this, I get the same color match (pale, yellow undertone) in a formula much more suited to my skin type.  I would say the coverage is medium, and the finish perfect for dry or combination skin types, and workable for oily skin as well (just be sure to apply a thinner layer on your t-zone to prevent excess oils from interacting with the foundation).  Big fan! I received this product complimentary for review purposes.\\']}'"
            ]
          },
          "metadata": {
            "tags": []
          },
          "execution_count": 10
        }
      ]
    },
    {
      "cell_type": "code",
      "metadata": {
        "id": "KshjJSvV4BAe"
      },
      "source": [
        "data = {}\n",
        "final_df = pd.DataFrame(data,columns = [\"review\",\"label\"])"
      ],
      "execution_count": 11,
      "outputs": []
    },
    {
      "cell_type": "code",
      "metadata": {
        "colab": {
          "base_uri": "https://localhost:8080/",
          "height": 48
        },
        "id": "dDTwK3y-55ku",
        "outputId": "63ef3b13-b25e-47c1-ce4c-934ad70ba18a"
      },
      "source": [
        "final_df"
      ],
      "execution_count": 12,
      "outputs": [
        {
          "output_type": "execute_result",
          "data": {
            "text/html": [
              "<div>\n",
              "<style scoped>\n",
              "    .dataframe tbody tr th:only-of-type {\n",
              "        vertical-align: middle;\n",
              "    }\n",
              "\n",
              "    .dataframe tbody tr th {\n",
              "        vertical-align: top;\n",
              "    }\n",
              "\n",
              "    .dataframe thead th {\n",
              "        text-align: right;\n",
              "    }\n",
              "</style>\n",
              "<table border=\"1\" class=\"dataframe\">\n",
              "  <thead>\n",
              "    <tr style=\"text-align: right;\">\n",
              "      <th></th>\n",
              "      <th>review</th>\n",
              "      <th>label</th>\n",
              "    </tr>\n",
              "  </thead>\n",
              "  <tbody>\n",
              "  </tbody>\n",
              "</table>\n",
              "</div>"
            ],
            "text/plain": [
              "Empty DataFrame\n",
              "Columns: [review, label]\n",
              "Index: []"
            ]
          },
          "metadata": {
            "tags": []
          },
          "execution_count": 12
        }
      ]
    },
    {
      "cell_type": "code",
      "metadata": {
        "id": "jV9GawdMSpNY"
      },
      "source": [
        "def extract_data_from_df(sample_data):\n",
        "  global final_df\n",
        "  data = {}\n",
        "  sample_data_exp = ast.literal_eval(sample_data)\n",
        "  TOTAL_COLS = len(sample_data_exp['review'])\n",
        "  try:\n",
        "    if len(sample_data_exp['review'])!= len(sample_data_exp['rrat']):\n",
        "      return \"BAD DATAFRAME\"\n",
        "  except:\n",
        "    return \"COLUMNS DO NOT MATCH\"\n",
        "\n",
        "  data[\"review\"] = sample_data_exp['review']\n",
        "  data[\"label\"] = sample_data_exp['rrat']\n",
        "  new_df = pd.DataFrame(data,columns = [\"review\",\"label\"])\n",
        "  final_df = final_df.append(new_df, ignore_index=True)\n",
        "  return TOTAL_COLS"
      ],
      "execution_count": 13,
      "outputs": []
    },
    {
      "cell_type": "code",
      "metadata": {
        "colab": {
          "base_uri": "https://localhost:8080/"
        },
        "id": "xbnvfb4qzhKt",
        "outputId": "0533b1db-8bd0-46ef-f4a3-ba09cb58e3c4"
      },
      "source": [
        "# Extract Data\n",
        "\n",
        "# clean description\n",
        "dataset['reviews'].map(lambda x: extract_data_from_df(x))"
      ],
      "execution_count": 14,
      "outputs": [
        {
          "output_type": "execute_result",
          "data": {
            "text/plain": [
              "0      300\n",
              "1       11\n",
              "2      300\n",
              "3       77\n",
              "4       77\n",
              "      ... \n",
              "918    300\n",
              "919    300\n",
              "920    242\n",
              "921    300\n",
              "922    118\n",
              "Name: reviews, Length: 923, dtype: object"
            ]
          },
          "metadata": {
            "tags": []
          },
          "execution_count": 14
        }
      ]
    },
    {
      "cell_type": "code",
      "metadata": {
        "id": "bC4o5Xcq0wRL"
      },
      "source": [
        "final_df['label'] = final_df.label.astype(int)"
      ],
      "execution_count": 15,
      "outputs": []
    },
    {
      "cell_type": "markdown",
      "metadata": {
        "id": "4wkkuhVS7g1O"
      },
      "source": [
        "So this is our final dataset we will use for training our model. It will be fun. "
      ]
    },
    {
      "cell_type": "code",
      "metadata": {
        "id": "Yf3_p_tuPVP8"
      },
      "source": [
        "def convert_to_labels(rating):\n",
        "  if rating<=2:\n",
        "    return \"NEGATIVE\"\n",
        "  elif rating == 3:\n",
        "    return \"NEUTRAL\"\n",
        "  else:\n",
        "    return \"POSITIVE\""
      ],
      "execution_count": 16,
      "outputs": []
    },
    {
      "cell_type": "code",
      "metadata": {
        "id": "RAmUMuvSOvx3"
      },
      "source": [
        "final_df['label'] = final_df['label'].map(lambda x: convert_to_labels(x))"
      ],
      "execution_count": 17,
      "outputs": []
    },
    {
      "cell_type": "code",
      "metadata": {
        "id": "e4sAEnWM1Lts"
      },
      "source": [
        "final_df.to_csv(\"/content/drive/MyDrive/Projects/Moodboard/sentiment.csv\",index= False)"
      ],
      "execution_count": 20,
      "outputs": []
    },
    {
      "cell_type": "code",
      "metadata": {
        "colab": {
          "base_uri": "https://localhost:8080/"
        },
        "id": "0DSO6uyRQsPw",
        "outputId": "6589cf72-ba30-4c64-d0fb-1564aed4f452"
      },
      "source": [
        "final_df['label'].value_counts()"
      ],
      "execution_count": 19,
      "outputs": [
        {
          "output_type": "execute_result",
          "data": {
            "text/plain": [
              "POSITIVE    104482\n",
              "NEGATIVE     18490\n",
              "NEUTRAL      11037\n",
              "Name: label, dtype: int64"
            ]
          },
          "metadata": {
            "tags": []
          },
          "execution_count": 19
        }
      ]
    },
    {
      "cell_type": "code",
      "metadata": {
        "id": "0wBFTKI3QtAi"
      },
      "source": [
        ""
      ],
      "execution_count": null,
      "outputs": []
    }
  ]
}